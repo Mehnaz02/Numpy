{
 "cells": [
  {
   "cell_type": "markdown",
   "id": "b8de9dcd",
   "metadata": {},
   "source": [
    "1. Create a function that takes dimensions as tuples e.g.(3, 3) and a numeric value and returns a\n",
    "Numpy array of the given dimension filled with the given value e.g.: solve((3, 3), 5) will return\n",
    "[\n",
    "[5, 5, 5],\n",
    "[5, 5, 5],\n",
    "[5, 5, 5]\n",
    "]"
   ]
  },
  {
   "cell_type": "code",
   "execution_count": 132,
   "id": "8117556c",
   "metadata": {},
   "outputs": [
    {
     "name": "stdout",
     "output_type": "stream",
     "text": [
      "[[5 5 5]\n",
      " [5 5 5]\n",
      " [5 5 5]]\n"
     ]
    }
   ],
   "source": [
    "import numpy as np\n",
    "\n",
    "\n",
    "u=np.full((3,3),5)\n",
    "print(u)"
   ]
  },
  {
   "cell_type": "markdown",
   "id": "9bf83ae7",
   "metadata": {},
   "source": [
    "Create a method that takes n Numpy arrays of same dimensions sums them and return the\n",
    "answer."
   ]
  },
  {
   "cell_type": "code",
   "execution_count": 31,
   "id": "5e407f83",
   "metadata": {},
   "outputs": [
    {
     "name": "stdout",
     "output_type": "stream",
     "text": [
      "[3 5 7]\n"
     ]
    }
   ],
   "source": [
    "import numpy as np\n",
    "\n",
    "arr1=np.array([1,2,3])\n",
    "arr2=np.array([2,3,4])\n",
    "y=arr1+arr2\n",
    "print(y)"
   ]
  },
  {
   "cell_type": "markdown",
   "id": "6e898867",
   "metadata": {},
   "source": [
    "Given a 2 D Array of N X M Dimension, Write a function that accepts this array as well as two\n",
    "numbers N and M. The method should return the top-left N X M sub matrix e.g:\n",
    "[\n",
    "[1, 2, 3],\n",
    "[4, 5, 6],\n",
    "[7, 8, 9],\n",
    "]\n",
    "top_left_sub_matrix (matrix, 2, 2) -> should return:\n",
    "[\n",
    "[1, 2]\n",
    "[4, 5]\n",
    "]"
   ]
  },
  {
   "cell_type": "code",
   "execution_count": 134,
   "id": "7f89bd92",
   "metadata": {},
   "outputs": [
    {
     "name": "stdout",
     "output_type": "stream",
     "text": [
      "[[1 2 3]\n",
      " [4 5 6]\n",
      " [7 8 9]]\n"
     ]
    }
   ],
   "source": [
    "arr1=np.arange(1,10).reshape(3,3)\n",
    "print(arr1)"
   ]
  },
  {
   "cell_type": "code",
   "execution_count": 135,
   "id": "64d64a82",
   "metadata": {},
   "outputs": [
    {
     "name": "stdout",
     "output_type": "stream",
     "text": [
      "[[1 2]\n",
      " [4 5]]\n"
     ]
    }
   ],
   "source": [
    "print(arr1[:2, :2])"
   ]
  },
  {
   "cell_type": "code",
   "execution_count": 92,
   "id": "2008dd80",
   "metadata": {},
   "outputs": [
    {
     "name": "stdout",
     "output_type": "stream",
     "text": [
      "[7 8 9]\n"
     ]
    }
   ],
   "source": [
    "print(arr1[2, :])"
   ]
  },
  {
   "cell_type": "code",
   "execution_count": 100,
   "id": "d38cf075",
   "metadata": {},
   "outputs": [
    {
     "name": "stdout",
     "output_type": "stream",
     "text": [
      "[[1 2]\n",
      " [4 5]\n",
      " [7 8]]\n"
     ]
    }
   ],
   "source": [
    "print(arr1[:, :2])"
   ]
  },
  {
   "cell_type": "code",
   "execution_count": 110,
   "id": "013bb767",
   "metadata": {},
   "outputs": [
    {
     "name": "stdout",
     "output_type": "stream",
     "text": [
      "[4 5 6]\n"
     ]
    }
   ],
   "source": [
    "print(arr1[1,:])"
   ]
  },
  {
   "cell_type": "markdown",
   "id": "5c3e9fc4",
   "metadata": {},
   "source": [
    "4. Given a 2 D Array of N X M Dimension, Write a function that accepts this array as well as two\n",
    "numbers N and M The method should return the bottom-right N X M sub matrix e.g.:\n",
    "[\n",
    "[1, 2, 3],\n",
    "[4, 5, 6],\n",
    "[7, 8, 9],\n",
    "]\n",
    "sub_matrix(matrix, 1, 1) -> should return : (Keep in mind these arrays are zero indexed)\n",
    "[\n",
    "[5, 6]\n",
    "[8, 9]\n",
    "]"
   ]
  },
  {
   "cell_type": "code",
   "execution_count": 136,
   "id": "a2e8dfb0",
   "metadata": {},
   "outputs": [],
   "source": [
    "arr1=np.arange(1,10).reshape((3,3))"
   ]
  },
  {
   "cell_type": "code",
   "execution_count": 119,
   "id": "96038280",
   "metadata": {},
   "outputs": [
    {
     "name": "stdout",
     "output_type": "stream",
     "text": [
      "[[1 2 3]\n",
      " [4 5 6]\n",
      " [7 8 9]]\n"
     ]
    }
   ],
   "source": [
    "print(arr1)"
   ]
  },
  {
   "cell_type": "code",
   "execution_count": 137,
   "id": "5bf56c01",
   "metadata": {},
   "outputs": [
    {
     "name": "stdout",
     "output_type": "stream",
     "text": [
      "[[5 6]\n",
      " [8 9]]\n"
     ]
    }
   ],
   "source": [
    "print(arr1[1:, 1:])"
   ]
  },
  {
   "cell_type": "code",
   "execution_count": 145,
   "id": "8e54caca",
   "metadata": {},
   "outputs": [
    {
     "name": "stdout",
     "output_type": "stream",
     "text": [
      "[[1 2]\n",
      " [4 5]]\n"
     ]
    }
   ],
   "source": [
    "print(arr1[:2,:2])"
   ]
  },
  {
   "cell_type": "markdown",
   "id": "62150763",
   "metadata": {},
   "source": [
    "Given a 1 D Numpy Array. Write a function that accepts this array as parameters. The method\n",
    "should return a dictionary with 'mean' and 'std_dev' as key and array's mean and array's\n",
    "standard deviation as values:\n",
    "[1, 1, 1]\n",
    "solution(arr) -> should return :\n",
    "{'mean': 1.0, 'std_dev': 0.0}"
   ]
  },
  {
   "cell_type": "code",
   "execution_count": 1,
   "id": "c919693d",
   "metadata": {},
   "outputs": [],
   "source": [
    "arr1={'mean':1 ,'std_dev':1}"
   ]
  },
  {
   "cell_type": "code",
   "execution_count": 3,
   "id": "ff2d1716",
   "metadata": {},
   "outputs": [],
   "source": [
    "import numpy as np\n",
    "def solution(arr):\n",
    "    result={}\n",
    "    result['mean']=np.mean(arr)\n",
    "    result['std_dev']=np.std(arr)\n",
    "    return resultS\n"
   ]
  },
  {
   "cell_type": "code",
   "execution_count": 4,
   "id": "14092236",
   "metadata": {},
   "outputs": [
    {
     "name": "stdout",
     "output_type": "stream",
     "text": [
      "{'mean': 1.0, 'std_dev': 0.0}\n"
     ]
    }
   ],
   "source": [
    "arr=np.array([1,1,1])\n",
    "result=solution(arr)\n",
    "print(result)"
   ]
  }
 ],
 "metadata": {
  "kernelspec": {
   "display_name": "Python 3 (ipykernel)",
   "language": "python",
   "name": "python3"
  },
  "language_info": {
   "codemirror_mode": {
    "name": "ipython",
    "version": 3
   },
   "file_extension": ".py",
   "mimetype": "text/x-python",
   "name": "python",
   "nbconvert_exporter": "python",
   "pygments_lexer": "ipython3",
   "version": "3.8.10"
  }
 },
 "nbformat": 4,
 "nbformat_minor": 5
}
