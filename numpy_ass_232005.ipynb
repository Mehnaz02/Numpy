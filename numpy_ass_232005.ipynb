{
  "nbformat": 4,
  "nbformat_minor": 0,
  "metadata": {
    "colab": {
      "provenance": []
    },
    "kernelspec": {
      "name": "python3",
      "display_name": "Python 3"
    },
    "language_info": {
      "name": "python"
    }
  },
  "cells": [
    {
      "cell_type": "markdown",
      "source": [
        "Q1. For a given numpy array, how will you change the dimensions to 5 using the\n",
        "existing parameters in the numpy array.\n",
        "my_array = numpy.array([[[[1,3,4]]]])"
      ],
      "metadata": {
        "id": "rK-VbKCIxmky"
      }
    },
    {
      "cell_type": "code",
      "source": [
        "import numpy\n",
        "\n",
        "my_array = numpy.array([[[[1,3,4]]]])"
      ],
      "metadata": {
        "id": "c3r7uB2rxoQR"
      },
      "execution_count": null,
      "outputs": []
    },
    {
      "cell_type": "code",
      "source": [
        "numpy.array(my_array,ndim=5)"
      ],
      "metadata": {
        "colab": {
          "base_uri": "https://localhost:8080/",
          "height": 168
        },
        "id": "caTmU0jP04ed",
        "outputId": "93e18563-4f5e-4d8d-9a9a-786f4f64bcc0"
      },
      "execution_count": null,
      "outputs": [
        {
          "output_type": "error",
          "ename": "TypeError",
          "evalue": "ignored",
          "traceback": [
            "\u001b[0;31m---------------------------------------------------------------------------\u001b[0m",
            "\u001b[0;31mTypeError\u001b[0m                                 Traceback (most recent call last)",
            "\u001b[0;32m<ipython-input-29-9c078a4c1f5e>\u001b[0m in \u001b[0;36m<cell line: 1>\u001b[0;34m()\u001b[0m\n\u001b[0;32m----> 1\u001b[0;31m \u001b[0mnumpy\u001b[0m\u001b[0;34m.\u001b[0m\u001b[0marray\u001b[0m\u001b[0;34m(\u001b[0m\u001b[0mmy_array\u001b[0m\u001b[0;34m,\u001b[0m\u001b[0mndim\u001b[0m\u001b[0;34m=\u001b[0m\u001b[0;36m5\u001b[0m\u001b[0;34m)\u001b[0m\u001b[0;34m\u001b[0m\u001b[0;34m\u001b[0m\u001b[0m\n\u001b[0m",
            "\u001b[0;31mTypeError\u001b[0m: array() got an unexpected keyword argument 'ndim'"
          ]
        }
      ]
    },
    {
      "cell_type": "markdown",
      "source": [
        "For the given numpy arrays, Array1 and Array2, what will be the dot product for\n",
        "the same. Array1 = array([[1, 2, 3], [4, 5, 6]])\n",
        "Array2 = array([[2, 3],[3, 2]])"
      ],
      "metadata": {
        "id": "15bq9RBI1RLe"
      }
    },
    {
      "cell_type": "code",
      "source": [
        "import numpy as np\n",
        "\n",
        "Array1 = np.array([[1, 2, 3],[4, 5, 6]])\n",
        "Array2 = np.array([[2, 3],[3, 2]])\n",
        "np.dot(Array1,Array2)"
      ],
      "metadata": {
        "colab": {
          "base_uri": "https://localhost:8080/",
          "height": 238
        },
        "id": "-FCEr3AC1RwT",
        "outputId": "bf5f8df0-ab36-4868-c2f8-d41b307c929b"
      },
      "execution_count": null,
      "outputs": [
        {
          "output_type": "error",
          "ename": "ValueError",
          "evalue": "ignored",
          "traceback": [
            "\u001b[0;31m---------------------------------------------------------------------------\u001b[0m",
            "\u001b[0;31mValueError\u001b[0m                                Traceback (most recent call last)",
            "\u001b[0;32m<ipython-input-36-56efdb092232>\u001b[0m in \u001b[0;36m<cell line: 5>\u001b[0;34m()\u001b[0m\n\u001b[1;32m      3\u001b[0m \u001b[0mArray1\u001b[0m \u001b[0;34m=\u001b[0m \u001b[0mnp\u001b[0m\u001b[0;34m.\u001b[0m\u001b[0marray\u001b[0m\u001b[0;34m(\u001b[0m\u001b[0;34m[\u001b[0m\u001b[0;34m[\u001b[0m\u001b[0;36m1\u001b[0m\u001b[0;34m,\u001b[0m \u001b[0;36m2\u001b[0m\u001b[0;34m,\u001b[0m \u001b[0;36m3\u001b[0m\u001b[0;34m]\u001b[0m\u001b[0;34m,\u001b[0m \u001b[0;34m[\u001b[0m\u001b[0;36m4\u001b[0m\u001b[0;34m,\u001b[0m \u001b[0;36m5\u001b[0m\u001b[0;34m,\u001b[0m \u001b[0;36m6\u001b[0m\u001b[0;34m]\u001b[0m\u001b[0;34m]\u001b[0m\u001b[0;34m)\u001b[0m\u001b[0;34m\u001b[0m\u001b[0;34m\u001b[0m\u001b[0m\n\u001b[1;32m      4\u001b[0m \u001b[0mArray2\u001b[0m \u001b[0;34m=\u001b[0m \u001b[0mnp\u001b[0m\u001b[0;34m.\u001b[0m\u001b[0marray\u001b[0m\u001b[0;34m(\u001b[0m\u001b[0;34m[\u001b[0m\u001b[0;34m[\u001b[0m\u001b[0;36m2\u001b[0m\u001b[0;34m,\u001b[0m \u001b[0;36m3\u001b[0m\u001b[0;34m]\u001b[0m\u001b[0;34m,\u001b[0m\u001b[0;34m[\u001b[0m\u001b[0;36m3\u001b[0m\u001b[0;34m,\u001b[0m \u001b[0;36m2\u001b[0m\u001b[0;34m]\u001b[0m\u001b[0;34m]\u001b[0m\u001b[0;34m)\u001b[0m\u001b[0;34m\u001b[0m\u001b[0;34m\u001b[0m\u001b[0m\n\u001b[0;32m----> 5\u001b[0;31m \u001b[0mnp\u001b[0m\u001b[0;34m.\u001b[0m\u001b[0mdot\u001b[0m\u001b[0;34m(\u001b[0m\u001b[0mArray1\u001b[0m\u001b[0;34m,\u001b[0m\u001b[0mArray2\u001b[0m\u001b[0;34m)\u001b[0m\u001b[0;34m\u001b[0m\u001b[0;34m\u001b[0m\u001b[0m\n\u001b[0m",
            "\u001b[0;32m/usr/local/lib/python3.10/dist-packages/numpy/core/overrides.py\u001b[0m in \u001b[0;36mdot\u001b[0;34m(*args, **kwargs)\u001b[0m\n",
            "\u001b[0;31mValueError\u001b[0m: shapes (2,3) and (2,2) not aligned: 3 (dim 1) != 2 (dim 0)"
          ]
        }
      ]
    },
    {
      "cell_type": "markdown",
      "source": [
        "Q3. In a given numpy array, using the slicing operations print the reverse of the\n",
        "array.\n",
        "array = np.array([10,3,1,203,404,204,20,302,30,402,192])"
      ],
      "metadata": {
        "id": "aGlqIdcj2VDE"
      }
    },
    {
      "cell_type": "code",
      "source": [
        "import array\n",
        "array. array = np.array([10,3,1,203,404,204,20,302,30,402,192])"
      ],
      "metadata": {
        "id": "PXIAa2ln2ViU"
      },
      "execution_count": null,
      "outputs": []
    },
    {
      "cell_type": "code",
      "source": [
        "array.array[::-1]"
      ],
      "metadata": {
        "colab": {
          "base_uri": "https://localhost:8080/"
        },
        "id": "tSZgKsS92ZOe",
        "outputId": "eddfe496-7f70-4bd2-a5f8-69868f344a29"
      },
      "execution_count": null,
      "outputs": [
        {
          "output_type": "execute_result",
          "data": {
            "text/plain": [
              "array([192, 402,  30, 302,  20, 204, 404, 203,   1,   3,  10])"
            ]
          },
          "metadata": {},
          "execution_count": 40
        }
      ]
    },
    {
      "cell_type": "markdown",
      "source": [
        "Q4. What is the output of the below code:\n",
        "a = [[1, 0], [0, 1]]\n",
        "b = [[4, 1], [2, 2]]\n",
        "np.dot(a, b)"
      ],
      "metadata": {
        "id": "DgHdp3wI22NZ"
      }
    },
    {
      "cell_type": "code",
      "source": [
        "a = [[1, 0], [0, 1]]\n",
        "b = [[4, 1], [2, 2]]\n",
        "np.dot(a, b)"
      ],
      "metadata": {
        "colab": {
          "base_uri": "https://localhost:8080/"
        },
        "id": "1YhNXyLV23gl",
        "outputId": "29d768ef-7df0-4d91-a774-caae28ab3102"
      },
      "execution_count": null,
      "outputs": [
        {
          "output_type": "execute_result",
          "data": {
            "text/plain": [
              "array([[4, 1],\n",
              "       [2, 2]])"
            ]
          },
          "metadata": {},
          "execution_count": 41
        }
      ]
    },
    {
      "cell_type": "markdown",
      "source": [
        "Q5. What is the output of the following code:\n",
        "a = np.arange(3*4*5*6).reshape((3,4,5,6))\n",
        "b = np.arange(3*4*5*6)[::-1].reshape((5,4,6,3))\n",
        "np.dot(a, b)[2,3,2,1,2,2]"
      ],
      "metadata": {
        "id": "r1V0G1Dr3B8l"
      }
    },
    {
      "cell_type": "code",
      "source": [
        "a = np.arange(3456).reshape((3,4,5,6))\n",
        "b = np.arange(3456)[::-1].reshape((5,4,6,3))\n",
        "np.dot(a, b)[2,3,2,1,2,2]"
      ],
      "metadata": {
        "colab": {
          "base_uri": "https://localhost:8080/",
          "height": 203
        },
        "id": "M8OSlbaE3DUA",
        "outputId": "0771e1bb-fee5-4bac-fa51-1d6ca70b5610"
      },
      "execution_count": null,
      "outputs": [
        {
          "output_type": "error",
          "ename": "ValueError",
          "evalue": "ignored",
          "traceback": [
            "\u001b[0;31m---------------------------------------------------------------------------\u001b[0m",
            "\u001b[0;31mValueError\u001b[0m                                Traceback (most recent call last)",
            "\u001b[0;32m<ipython-input-42-21decbdc4725>\u001b[0m in \u001b[0;36m<cell line: 1>\u001b[0;34m()\u001b[0m\n\u001b[0;32m----> 1\u001b[0;31m \u001b[0ma\u001b[0m \u001b[0;34m=\u001b[0m \u001b[0mnp\u001b[0m\u001b[0;34m.\u001b[0m\u001b[0marange\u001b[0m\u001b[0;34m(\u001b[0m\u001b[0;36m3456\u001b[0m\u001b[0;34m)\u001b[0m\u001b[0;34m.\u001b[0m\u001b[0mreshape\u001b[0m\u001b[0;34m(\u001b[0m\u001b[0;34m(\u001b[0m\u001b[0;36m3\u001b[0m\u001b[0;34m,\u001b[0m\u001b[0;36m4\u001b[0m\u001b[0;34m,\u001b[0m\u001b[0;36m5\u001b[0m\u001b[0;34m,\u001b[0m\u001b[0;36m6\u001b[0m\u001b[0;34m)\u001b[0m\u001b[0;34m)\u001b[0m\u001b[0;34m\u001b[0m\u001b[0;34m\u001b[0m\u001b[0m\n\u001b[0m\u001b[1;32m      2\u001b[0m \u001b[0mb\u001b[0m \u001b[0;34m=\u001b[0m \u001b[0mnp\u001b[0m\u001b[0;34m.\u001b[0m\u001b[0marange\u001b[0m\u001b[0;34m(\u001b[0m\u001b[0;36m3456\u001b[0m\u001b[0;34m)\u001b[0m\u001b[0;34m[\u001b[0m\u001b[0;34m:\u001b[0m\u001b[0;34m:\u001b[0m\u001b[0;34m-\u001b[0m\u001b[0;36m1\u001b[0m\u001b[0;34m]\u001b[0m\u001b[0;34m.\u001b[0m\u001b[0mreshape\u001b[0m\u001b[0;34m(\u001b[0m\u001b[0;34m(\u001b[0m\u001b[0;36m5\u001b[0m\u001b[0;34m,\u001b[0m\u001b[0;36m4\u001b[0m\u001b[0;34m,\u001b[0m\u001b[0;36m6\u001b[0m\u001b[0;34m,\u001b[0m\u001b[0;36m3\u001b[0m\u001b[0;34m)\u001b[0m\u001b[0;34m)\u001b[0m\u001b[0;34m\u001b[0m\u001b[0;34m\u001b[0m\u001b[0m\n\u001b[1;32m      3\u001b[0m \u001b[0mnp\u001b[0m\u001b[0;34m.\u001b[0m\u001b[0mdot\u001b[0m\u001b[0;34m(\u001b[0m\u001b[0ma\u001b[0m\u001b[0;34m,\u001b[0m \u001b[0mb\u001b[0m\u001b[0;34m)\u001b[0m\u001b[0;34m[\u001b[0m\u001b[0;36m2\u001b[0m\u001b[0;34m,\u001b[0m\u001b[0;36m3\u001b[0m\u001b[0;34m,\u001b[0m\u001b[0;36m2\u001b[0m\u001b[0;34m,\u001b[0m\u001b[0;36m1\u001b[0m\u001b[0;34m,\u001b[0m\u001b[0;36m2\u001b[0m\u001b[0;34m,\u001b[0m\u001b[0;36m2\u001b[0m\u001b[0;34m]\u001b[0m\u001b[0;34m\u001b[0m\u001b[0;34m\u001b[0m\u001b[0m\n",
            "\u001b[0;31mValueError\u001b[0m: cannot reshape array of size 3456 into shape (3,4,5,6)"
          ]
        }
      ]
    },
    {
      "cell_type": "markdown",
      "source": [
        "Q6. What will be output for the following code?\n",
        "import numpy as np\n",
        "a = np.array([3, 7, 32], dtype = complex)\n",
        "print(a)"
      ],
      "metadata": {
        "id": "YFIfqT3b3PDh"
      }
    },
    {
      "cell_type": "code",
      "source": [
        "import numpy as np\n",
        "a = np.array([3, 7, 32], dtype = complex)\n",
        "print(a)"
      ],
      "metadata": {
        "colab": {
          "base_uri": "https://localhost:8080/"
        },
        "id": "yTAzG7UH3Pmf",
        "outputId": "8891d8e9-892a-49b9-bd7b-7f0021fd4d16"
      },
      "execution_count": null,
      "outputs": [
        {
          "output_type": "stream",
          "name": "stdout",
          "text": [
            "[ 3.+0.j  7.+0.j 32.+0.j]\n"
          ]
        }
      ]
    },
    {
      "cell_type": "markdown",
      "source": [
        "Q7. How to replace all values greater than a given value with a given cutoff? For\n",
        "example: In array ‘ar1’, replace all values greater than 30 to 30 and less than 10 to 10.\n",
        "Input:\n",
        "np.random.seed(100)\n",
        "ar1 = np.random.uniform(1,50, 20)"
      ],
      "metadata": {
        "id": "qB-gF3DD3mkj"
      }
    },
    {
      "cell_type": "code",
      "source": [
        "np.random.seed(100)\n",
        "ar1 = np.random.uniform(1,50, 20)\n",
        "np.where(a < 10, 10, np.where(a > 30, 30, a))"
      ],
      "metadata": {
        "colab": {
          "base_uri": "https://localhost:8080/"
        },
        "id": "eKTePW0K3ogS",
        "outputId": "a1566aab-6404-4e99-ab54-ab20a7581958"
      },
      "execution_count": null,
      "outputs": [
        {
          "output_type": "execute_result",
          "data": {
            "text/plain": [
              "array([10.+0.j, 10.+0.j, 30.+0.j])"
            ]
          },
          "metadata": {},
          "execution_count": 50
        }
      ]
    },
    {
      "cell_type": "code",
      "source": [],
      "metadata": {
        "colab": {
          "base_uri": "https://localhost:8080/"
        },
        "id": "bvIWznuh3zK5",
        "outputId": "3c0f6852-66dc-4ffe-ce52-c28d8db0a6b1"
      },
      "execution_count": null,
      "outputs": [
        {
          "output_type": "execute_result",
          "data": {
            "text/plain": [
              "array([27.62684215, 14.64009987, 21.80136195, 42.39403048,  1.23122395,\n",
              "        6.95688692, 33.86670515, 41.466785  ,  7.69862289, 29.17957314,\n",
              "       44.67477576, 11.25090398, 10.08108276,  6.31046763, 11.76517714,\n",
              "       48.95256545, 40.77247431,  9.42510962, 40.99501269, 14.42961361])"
            ]
          },
          "metadata": {},
          "execution_count": 51
        }
      ]
    },
    {
      "cell_type": "markdown",
      "source": [
        "Q8. For a given numpy array, how are you going to insert a new value at the specified\n",
        "position? array = np.array([10,3,1,203,404,204,20,302,30,402,192])\n",
        "Elem_to_be_inserted = [1,2,3,4]\n",
        "The position to be inserted at = before 404"
      ],
      "metadata": {
        "id": "Dh9HiSE9Irty"
      }
    },
    {
      "cell_type": "code",
      "source": [
        "import numpy as np\n",
        "\n",
        "array = np.array([10,3,1,203,404,204,20,302,30,402,192])\n",
        "array2=np.array([1,2,3,4])"
      ],
      "metadata": {
        "id": "4MLnpBH530tI"
      },
      "execution_count": 2,
      "outputs": []
    },
    {
      "cell_type": "code",
      "source": [
        "np.insert(array,4,array2)"
      ],
      "metadata": {
        "colab": {
          "base_uri": "https://localhost:8080/"
        },
        "id": "-gBlFAFJI8Eu",
        "outputId": "6c3e78c6-89cf-4938-c912-221b43cceb03"
      },
      "execution_count": 3,
      "outputs": [
        {
          "output_type": "execute_result",
          "data": {
            "text/plain": [
              "array([ 10,   3,   1, 203,   1,   2,   3,   4, 404, 204,  20, 302,  30,\n",
              "       402, 192])"
            ]
          },
          "metadata": {},
          "execution_count": 3
        }
      ]
    },
    {
      "cell_type": "markdown",
      "source": [
        "Create a 3x3 matrix using numpy, and all the values of the matrix must be a constant k."
      ],
      "metadata": {
        "id": "yN3ZC-LVKEDn"
      }
    },
    {
      "cell_type": "code",
      "source": [
        "np.full((3,3),'k')"
      ],
      "metadata": {
        "colab": {
          "base_uri": "https://localhost:8080/"
        },
        "id": "pzMS-NH3KEn_",
        "outputId": "7c40f592-b84e-4c76-cd3e-c6b287724d06"
      },
      "execution_count": 6,
      "outputs": [
        {
          "output_type": "execute_result",
          "data": {
            "text/plain": [
              "array([['k', 'k', 'k'],\n",
              "       ['k', 'k', 'k'],\n",
              "       ['k', 'k', 'k']], dtype='<U1')"
            ]
          },
          "metadata": {},
          "execution_count": 6
        }
      ]
    },
    {
      "cell_type": "code",
      "source": [],
      "metadata": {
        "id": "lcQIv7pcKvYF"
      },
      "execution_count": null,
      "outputs": []
    },
    {
      "cell_type": "markdown",
      "source": [
        "For the given python code that implements bubble sort, what will be the output for the\n",
        "given numpy array\n"
      ],
      "metadata": {
        "id": "ZFnEP0xWKuo1"
      }
    },
    {
      "cell_type": "code",
      "source": [
        "import numpy\n",
        "def bub_sort(array):\n",
        "  for i in range(0, len(array)):\n",
        "      for j in range(0, len(array) - i - 1):\n",
        "        if array[j] < array[j + 1]:\n",
        "          temp = array[j]\n",
        "          array[j] = array[j + 1]\n",
        "          array[j+1] = temp\n",
        "          return array\n",
        "my_array = numpy.array([20,14,25,16,45,60,12,9])\n",
        "print(array)"
      ],
      "metadata": {
        "colab": {
          "base_uri": "https://localhost:8080/"
        },
        "id": "Ho0aIoksK0b8",
        "outputId": "aa1278f2-615e-425a-b4ad-d8bccde0d224"
      },
      "execution_count": 16,
      "outputs": [
        {
          "output_type": "stream",
          "name": "stdout",
          "text": [
            "[ 10   3   1 203 404 204  20 302  30 402 192]\n"
          ]
        }
      ]
    },
    {
      "cell_type": "markdown",
      "source": [
        "For a given numpy array of the shape (2,5) ,How will you reshape the array in the shape (5,2)."
      ],
      "metadata": {
        "id": "JZFOJkWaMPNf"
      }
    },
    {
      "cell_type": "code",
      "source": [
        "one=np.arange(0,10).reshape(2,5)\n",
        "one.reshape(5,2)"
      ],
      "metadata": {
        "colab": {
          "base_uri": "https://localhost:8080/"
        },
        "id": "t_s4zwZqMPxA",
        "outputId": "8bb4857b-8439-49b8-cd37-9fd2ea1d5dff"
      },
      "execution_count": 20,
      "outputs": [
        {
          "output_type": "execute_result",
          "data": {
            "text/plain": [
              "array([[0, 1],\n",
              "       [2, 3],\n",
              "       [4, 5],\n",
              "       [6, 7],\n",
              "       [8, 9]])"
            ]
          },
          "metadata": {},
          "execution_count": 20
        }
      ]
    },
    {
      "cell_type": "markdown",
      "source": [
        "Q12. What will be the shape of the sample numpy array after flattening it?\n",
        "Sample = numpy.array([[1,2],[3,4],[5,6],[7,8]])"
      ],
      "metadata": {
        "id": "iFU9NELOM3Id"
      }
    },
    {
      "cell_type": "code",
      "source": [
        "Sample = np.array([[1,2],[3,4],[5,6],[7,8]])"
      ],
      "metadata": {
        "id": "JRnqWK6iM3sX"
      },
      "execution_count": 21,
      "outputs": []
    },
    {
      "cell_type": "code",
      "source": [
        "Sample.shape"
      ],
      "metadata": {
        "colab": {
          "base_uri": "https://localhost:8080/"
        },
        "id": "SWSrPFndM7wn",
        "outputId": "2297d2ee-1ad9-4b9e-a440-9537a73fa9d5"
      },
      "execution_count": 23,
      "outputs": [
        {
          "output_type": "execute_result",
          "data": {
            "text/plain": [
              "(4, 2)"
            ]
          },
          "metadata": {},
          "execution_count": 23
        }
      ]
    },
    {
      "cell_type": "code",
      "source": [
        "np.hstack(Sample)"
      ],
      "metadata": {
        "colab": {
          "base_uri": "https://localhost:8080/"
        },
        "id": "8NxbqGw6M-iO",
        "outputId": "8ca03463-dd9d-454a-9b3d-faba73b740b2"
      },
      "execution_count": 32,
      "outputs": [
        {
          "output_type": "execute_result",
          "data": {
            "text/plain": [
              "array([1, 2, 3, 4, 5, 6, 7, 8])"
            ]
          },
          "metadata": {},
          "execution_count": 32
        }
      ]
    },
    {
      "cell_type": "markdown",
      "source": [
        "Q13. In the given array, how can we get the following output - array([2, 5,\n",
        "8]). Sample = numpy.array([[1,2,3],[4,5,6],[7,8,9],[10,11,12],[13,14,15]])"
      ],
      "metadata": {
        "id": "9-6nM46ANw6t"
      }
    },
    {
      "cell_type": "code",
      "source": [
        " Sample = numpy.array([[1,2,3],[4,5,6],[7,8,9],[10,11,12],[13,14,15]])"
      ],
      "metadata": {
        "id": "epGL75O2NxaW"
      },
      "execution_count": 33,
      "outputs": []
    },
    {
      "cell_type": "code",
      "source": [
        "Sample[:3,1]"
      ],
      "metadata": {
        "colab": {
          "base_uri": "https://localhost:8080/"
        },
        "id": "rIEvhEntN0DA",
        "outputId": "bad21e33-adeb-4161-ff71-4356cddeeb80"
      },
      "execution_count": 37,
      "outputs": [
        {
          "output_type": "execute_result",
          "data": {
            "text/plain": [
              "array([2, 5, 8])"
            ]
          },
          "metadata": {},
          "execution_count": 37
        }
      ]
    },
    {
      "cell_type": "markdown",
      "source": [
        "Q14. Given two numpy arrays, we will perform Horizontally stack the given arrays array1 and\n",
        "array2. What will be the output of the above operation? The sample arrays are as follows.\n",
        "Array1 = numpy.arange(20,2)\n",
        "Array2 = numpy.array([1,2,3,4,5,6,7,8,9,10])"
      ],
      "metadata": {
        "id": "83x1maSfON_P"
      }
    },
    {
      "cell_type": "code",
      "source": [
        "Array1 = numpy.arange(20,2)\n",
        "Array2 = numpy.array([1,2,3,4,5,6,7,8,9,10])\n",
        "np.hstack((Array1,Array2))\n"
      ],
      "metadata": {
        "colab": {
          "base_uri": "https://localhost:8080/"
        },
        "id": "t2bqhX4eOOhx",
        "outputId": "12823c89-c8fb-424c-b83a-b86dd9f950e2"
      },
      "execution_count": 44,
      "outputs": [
        {
          "output_type": "execute_result",
          "data": {
            "text/plain": [
              "array([ 1,  2,  3,  4,  5,  6,  7,  8,  9, 10])"
            ]
          },
          "metadata": {},
          "execution_count": 44
        }
      ]
    },
    {
      "cell_type": "markdown",
      "source": [
        "Q15. For the given arrays, array1 and array2, if we stack the two arrays row wise, what will be\n",
        "the output?\n",
        "array1 = np.array([[1,2],[3,4]])\n",
        "array2 = np.array([[1,2],[3,4],[5,6],[7,8],[9,10]])"
      ],
      "metadata": {
        "id": "hCbmf8ONPRw2"
      }
    },
    {
      "cell_type": "code",
      "source": [
        "array1 = np.array([[1,2],[3,4]])\n",
        "array2 = np.array([[1,2],[3,4],[5,6],[7,8],[9,10]])\n",
        "np.vstack((array1,array2))"
      ],
      "metadata": {
        "colab": {
          "base_uri": "https://localhost:8080/"
        },
        "id": "XZrKCjP9PSXp",
        "outputId": "2e603d69-3b0f-4e15-bdce-9cb3e6a79ecb"
      },
      "execution_count": 47,
      "outputs": [
        {
          "output_type": "execute_result",
          "data": {
            "text/plain": [
              "array([[ 1,  2],\n",
              "       [ 3,  4],\n",
              "       [ 1,  2],\n",
              "       [ 3,  4],\n",
              "       [ 5,  6],\n",
              "       [ 7,  8],\n",
              "       [ 9, 10]])"
            ]
          },
          "metadata": {},
          "execution_count": 47
        }
      ]
    },
    {
      "cell_type": "markdown",
      "source": [
        "Q16. For the given arrays, array1 and array2, if we stack the two arrays column wise, what\n",
        "will be the output?\n",
        "array1 = np.array([[1,2],[3,4]])\n",
        "array2 = np.array([[5,6],[7,8]])"
      ],
      "metadata": {
        "id": "cI1auN4FPygS"
      }
    },
    {
      "cell_type": "code",
      "source": [
        "array1 = np.array([[1,2],[3,4]])\n",
        "array2 = np.array([[5,6],[7,8]])\n",
        "np.hstack((array1,array2))"
      ],
      "metadata": {
        "colab": {
          "base_uri": "https://localhost:8080/"
        },
        "id": "1cyHXOZzPzO7",
        "outputId": "2b4abe4c-b128-46ad-ec21-01b57b3525bf"
      },
      "execution_count": 49,
      "outputs": [
        {
          "output_type": "execute_result",
          "data": {
            "text/plain": [
              "array([[1, 2, 5, 6],\n",
              "       [3, 4, 7, 8]])"
            ]
          },
          "metadata": {},
          "execution_count": 49
        }
      ]
    },
    {
      "cell_type": "markdown",
      "source": [
        "Q17. Given two vectors A and B, find the cross product between the two\n",
        "vectors. A = numpy.array([[4],[12],[29]])\n",
        "B = numpy.array([[13],[21],[4]])"
      ],
      "metadata": {
        "id": "z37nK60pQCd4"
      }
    },
    {
      "cell_type": "code",
      "source": [
        "A = np.array([[[4],[12],[29]]])\n",
        "B = np.array([[[13],[21],[4]]])\n",
        "\n"
      ],
      "metadata": {
        "id": "oRo72q69QEM_"
      },
      "execution_count": 62,
      "outputs": []
    },
    {
      "cell_type": "code",
      "source": [
        "np.cross(A,B)"
      ],
      "metadata": {
        "colab": {
          "base_uri": "https://localhost:8080/",
          "height": 331
        },
        "id": "5kqk8M6xQGz1",
        "outputId": "3c2d70f1-ddf5-48f0-ebe2-ef822e147eda"
      },
      "execution_count": 60,
      "outputs": [
        {
          "output_type": "error",
          "ename": "ValueError",
          "evalue": "ignored",
          "traceback": [
            "\u001b[0;31m---------------------------------------------------------------------------\u001b[0m",
            "\u001b[0;31mValueError\u001b[0m                                Traceback (most recent call last)",
            "\u001b[0;32m<ipython-input-60-573f62fe00ac>\u001b[0m in \u001b[0;36m<cell line: 1>\u001b[0;34m()\u001b[0m\n\u001b[0;32m----> 1\u001b[0;31m \u001b[0mnp\u001b[0m\u001b[0;34m.\u001b[0m\u001b[0mcross\u001b[0m\u001b[0;34m(\u001b[0m\u001b[0mA\u001b[0m\u001b[0;34m,\u001b[0m\u001b[0mB\u001b[0m\u001b[0;34m)\u001b[0m\u001b[0;34m\u001b[0m\u001b[0;34m\u001b[0m\u001b[0m\n\u001b[0m",
            "\u001b[0;32m/usr/local/lib/python3.10/dist-packages/numpy/core/overrides.py\u001b[0m in \u001b[0;36mcross\u001b[0;34m(*args, **kwargs)\u001b[0m\n",
            "\u001b[0;32m/usr/local/lib/python3.10/dist-packages/numpy/core/numeric.py\u001b[0m in \u001b[0;36mcross\u001b[0;34m(a, b, axisa, axisb, axisc, axis)\u001b[0m\n\u001b[1;32m   1605\u001b[0m            \"(dimension must be 2 or 3)\")\n\u001b[1;32m   1606\u001b[0m     \u001b[0;32mif\u001b[0m \u001b[0ma\u001b[0m\u001b[0;34m.\u001b[0m\u001b[0mshape\u001b[0m\u001b[0;34m[\u001b[0m\u001b[0;34m-\u001b[0m\u001b[0;36m1\u001b[0m\u001b[0;34m]\u001b[0m \u001b[0;32mnot\u001b[0m \u001b[0;32min\u001b[0m \u001b[0;34m(\u001b[0m\u001b[0;36m2\u001b[0m\u001b[0;34m,\u001b[0m \u001b[0;36m3\u001b[0m\u001b[0;34m)\u001b[0m \u001b[0;32mor\u001b[0m \u001b[0mb\u001b[0m\u001b[0;34m.\u001b[0m\u001b[0mshape\u001b[0m\u001b[0;34m[\u001b[0m\u001b[0;34m-\u001b[0m\u001b[0;36m1\u001b[0m\u001b[0;34m]\u001b[0m \u001b[0;32mnot\u001b[0m \u001b[0;32min\u001b[0m \u001b[0;34m(\u001b[0m\u001b[0;36m2\u001b[0m\u001b[0;34m,\u001b[0m \u001b[0;36m3\u001b[0m\u001b[0;34m)\u001b[0m\u001b[0;34m:\u001b[0m\u001b[0;34m\u001b[0m\u001b[0;34m\u001b[0m\u001b[0m\n\u001b[0;32m-> 1607\u001b[0;31m         \u001b[0;32mraise\u001b[0m \u001b[0mValueError\u001b[0m\u001b[0;34m(\u001b[0m\u001b[0mmsg\u001b[0m\u001b[0;34m)\u001b[0m\u001b[0;34m\u001b[0m\u001b[0;34m\u001b[0m\u001b[0m\n\u001b[0m\u001b[1;32m   1608\u001b[0m \u001b[0;34m\u001b[0m\u001b[0m\n\u001b[1;32m   1609\u001b[0m     \u001b[0;31m# Create the output array\u001b[0m\u001b[0;34m\u001b[0m\u001b[0;34m\u001b[0m\u001b[0m\n",
            "\u001b[0;31mValueError\u001b[0m: incompatible dimensions for cross product\n(dimension must be 2 or 3)"
          ]
        }
      ]
    },
    {
      "cell_type": "markdown",
      "source": [
        "Q18. Given two vectors A and B, find the correlation coefficient of the following\n",
        "vectors. A = numpy.array([1,3,5,7,9,11,13,15,17,19,21,23,25])\n",
        "B = numpy.array([0,2,4,6,8,10,12,14,16,18,20, 22, 24])"
      ],
      "metadata": {
        "id": "tHqY1V7NRebl"
      }
    },
    {
      "cell_type": "code",
      "source": [
        "import numpy as np\n",
        "\n",
        "A = numpy.array([1,3,5,7,9,11,13,15,17,19,21,23,25])\n",
        "B = numpy.array([0,2,4,6,8,10,12,14,16,18,20, 22, 24])\n",
        "np.corrcoef(A,B)"
      ],
      "metadata": {
        "colab": {
          "base_uri": "https://localhost:8080/"
        },
        "id": "FvC-W8s7Rf5w",
        "outputId": "20bae274-3bff-47c6-9440-d3b9b6f74655"
      },
      "execution_count": 66,
      "outputs": [
        {
          "output_type": "execute_result",
          "data": {
            "text/plain": [
              "array([[1., 1.],\n",
              "       [1., 1.]])"
            ]
          },
          "metadata": {},
          "execution_count": 66
        }
      ]
    },
    {
      "cell_type": "markdown",
      "source": [
        "Q19. Create a nested numpy array from a given dictionary data.\n",
        "sample = {1: [1,2],\n",
        "2: [[1],[2]],\n",
        "3: [[1,2], [3,4], [4,5]],\n",
        "4: [1],\n",
        "5: [1,2,3,4,5]}"
      ],
      "metadata": {
        "id": "X8RrQC0FR_rj"
      }
    },
    {
      "cell_type": "code",
      "source": [
        "sample = {1: [1,2], 2: [[1],[2]], 3: [[1,2], [3,4], [4,5]], 4: [1], 5: [1,2,3,4,5]}"
      ],
      "metadata": {
        "id": "Whok9i2fSBMz"
      },
      "execution_count": 67,
      "outputs": []
    },
    {
      "cell_type": "code",
      "source": [
        "sample"
      ],
      "metadata": {
        "colab": {
          "base_uri": "https://localhost:8080/"
        },
        "id": "urkZFXneSHb9",
        "outputId": "fc13a741-6bb9-4bfa-ddd2-05d7f622343e"
      },
      "execution_count": 68,
      "outputs": [
        {
          "output_type": "execute_result",
          "data": {
            "text/plain": [
              "{1: [1, 2],\n",
              " 2: [[1], [2]],\n",
              " 3: [[1, 2], [3, 4], [4, 5]],\n",
              " 4: [1],\n",
              " 5: [1, 2, 3, 4, 5]}"
            ]
          },
          "metadata": {},
          "execution_count": 68
        }
      ]
    },
    {
      "cell_type": "markdown",
      "source": [
        "Q20. A 2-dimensional array with 3 rows and 3 columns containing random numbers from 1\n",
        "to 9 is given as - arr1= np.array([[3,2,1],[6,4,5],[8,7,9]])\n",
        "Find the difference between the maximum element across the columns and the minimum\n",
        "element across the rows."
      ],
      "metadata": {
        "id": "4y-Zl1XMSUFx"
      }
    },
    {
      "cell_type": "code",
      "source": [
        "arr1= np.array([[3,2,1],[6,4,5],[8,7,9]])\n",
        "np.max(arr1,axis=1)"
      ],
      "metadata": {
        "colab": {
          "base_uri": "https://localhost:8080/"
        },
        "id": "wDoJCyXRSUqC",
        "outputId": "cdf92452-5353-4de4-9966-686e6e460089"
      },
      "execution_count": 70,
      "outputs": [
        {
          "output_type": "execute_result",
          "data": {
            "text/plain": [
              "array([3, 6, 9])"
            ]
          },
          "metadata": {},
          "execution_count": 70
        }
      ]
    },
    {
      "cell_type": "code",
      "source": [
        "np.min(arr1,axis=0)"
      ],
      "metadata": {
        "colab": {
          "base_uri": "https://localhost:8080/"
        },
        "id": "LgnZkbZFSfha",
        "outputId": "1136f14c-34ca-4582-bc96-f763ae3ccf85"
      },
      "execution_count": 71,
      "outputs": [
        {
          "output_type": "execute_result",
          "data": {
            "text/plain": [
              "array([3, 2, 1])"
            ]
          },
          "metadata": {},
          "execution_count": 71
        }
      ]
    },
    {
      "cell_type": "code",
      "source": [],
      "metadata": {
        "id": "NG_Kta-tSpKr"
      },
      "execution_count": null,
      "outputs": []
    }
  ]
}