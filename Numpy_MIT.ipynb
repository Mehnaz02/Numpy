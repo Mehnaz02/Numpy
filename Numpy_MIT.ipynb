{
 "cells": [
  {
   "cell_type": "code",
   "execution_count": null,
   "metadata": {
    "id": "i0PnM3LbRKPy"
   },
   "outputs": [],
   "source": []
  },
  {
   "cell_type": "markdown",
   "metadata": {
    "id": "KFHBOF5uWT-C"
   },
   "source": [
    "Numpy is a python library used for mathematical computations.\n",
    "\n",
    "\n",
    "Numpy was created in year 2005 by travis oliphant\n",
    "\n",
    "Numpy stands for numerical Python\n",
    "\n",
    "\n",
    "Numpy is faster as compared to list in python.\n",
    "\n",
    "\n",
    "Numpy arrays are stored at one continuous place in memory unlike list, due to which it is\n",
    "faster than lists.\n",
    "\n",
    "\n",
    "Numpy is a pyhton library and is partially eritten in Python, but the parts that require fast computations are written in C or C++."
   ]
  },
  {
   "cell_type": "code",
   "execution_count": 1,
   "metadata": {
    "colab": {
     "base_uri": "https://localhost:8080/"
    },
    "id": "-U3z_Ei2WqC0",
    "outputId": "e4f700f0-47ac-4396-a271-aec61a983728"
   },
   "outputs": [
    {
     "name": "stdout",
     "output_type": "stream",
     "text": [
      "Looking in indexes: https://pypi.org/simple, https://us-python.pkg.dev/colab-wheels/public/simple/\n",
      "Requirement already satisfied: numpy in /usr/local/lib/python3.10/dist-packages (1.22.4)\n"
     ]
    }
   ],
   "source": [
    "pip install numpy"
   ]
  },
  {
   "cell_type": "code",
   "execution_count": 2,
   "metadata": {
    "id": "XlhJaOesWyQk"
   },
   "outputs": [],
   "source": [
    "import numpy as np\n",
    "\n",
    "\n",
    "# np is a pseudo name or a alias name,alternate name for referring to the same thing"
   ]
  },
  {
   "cell_type": "code",
   "execution_count": 3,
   "metadata": {
    "id": "zKUty1BzXT4T"
   },
   "outputs": [],
   "source": [
    "# USES OF NUMPY:\n",
    "\n",
    "# 1) Aithmetic operations.\n",
    "# 2) Statistical operations.\n",
    "# 3) stacking.\n",
    "# 4) searching, sorting and counting."
   ]
  },
  {
   "cell_type": "code",
   "execution_count": 4,
   "metadata": {
    "colab": {
     "base_uri": "https://localhost:8080/"
    },
    "id": "SvN96-iwYi_F",
    "outputId": "01a738ab-44d9-4130-e6d0-b1b9326a11cc"
   },
   "outputs": [
    {
     "name": "stdout",
     "output_type": "stream",
     "text": [
      "{'__name__': 'numpy', '__doc__': '\\nNumPy\\n=====\\n\\nProvides\\n  1. An array object of arbitrary homogeneous items\\n  2. Fast mathematical operations over arrays\\n  3. Linear Algebra, Fourier Transforms, Random Number Generation\\n\\nHow to use the documentation\\n----------------------------\\nDocumentation is available in two forms: docstrings provided\\nwith the code, and a loose standing reference guide, available from\\n`the NumPy homepage <https://www.scipy.org>`_.\\n\\nWe recommend exploring the docstrings using\\n`IPython <https://ipython.org>`_, an advanced Python shell with\\nTAB-completion and introspection capabilities.  See below for further\\ninstructions.\\n\\nThe docstring examples assume that `numpy` has been imported as `np`::\\n\\n  >>> import numpy as np\\n\\nCode snippets are indicated by three greater-than signs::\\n\\n  >>> x = 42\\n  >>> x = x + 1\\n\\nUse the built-in ``help`` function to view a function\\'s docstring::\\n\\n  >>> help(np.sort)\\n  ... # doctest: +SKIP\\n\\nFor some objects, ``np.info(obj)`` may provide additional help.  This is\\nparticularly true if you see the line \"Help on ufunc object:\" at the top\\nof the help() page.  Ufuncs are implemented in C, not Python, for speed.\\nThe native Python help() does not know how to view their help, but our\\nnp.info() function does.\\n\\nTo search for documents containing a keyword, do::\\n\\n  >>> np.lookfor(\\'keyword\\')\\n  ... # doctest: +SKIP\\n\\nGeneral-purpose documents like a glossary and help on the basic concepts\\nof numpy are available under the ``doc`` sub-module::\\n\\n  >>> from numpy import doc\\n  >>> help(doc)\\n  ... # doctest: +SKIP\\n\\nAvailable subpackages\\n---------------------\\ndoc\\n    Topical documentation on broadcasting, indexing, etc.\\nlib\\n    Basic functions used by several sub-packages.\\nrandom\\n    Core Random Tools\\nlinalg\\n    Core Linear Algebra Tools\\nfft\\n    Core FFT routines\\npolynomial\\n    Polynomial tools\\ntesting\\n    NumPy testing tools\\nf2py\\n    Fortran to Python Interface Generator.\\ndistutils\\n    Enhancements to distutils with support for\\n    Fortran compilers support and more.\\n\\nUtilities\\n---------\\ntest\\n    Run numpy unittests\\nshow_config\\n    Show numpy build configuration\\ndual\\n    Overwrite certain functions with high-performance SciPy tools.\\n    Note: `numpy.dual` is deprecated.  Use the functions from NumPy or Scipy\\n    directly instead of importing them from `numpy.dual`.\\nmatlib\\n    Make everything matrices.\\n__version__\\n    NumPy version string\\n\\nViewing documentation using IPython\\n-----------------------------------\\nStart IPython with the NumPy profile (``ipython -p numpy``), which will\\nimport `numpy` under the alias `np`.  Then, use the ``cpaste`` command to\\npaste examples into the shell.  To see which functions are available in\\n`numpy`, type ``np.<TAB>`` (where ``<TAB>`` refers to the TAB key), or use\\n``np.*cos*?<ENTER>`` (where ``<ENTER>`` refers to the ENTER key) to narrow\\ndown the list.  To view the docstring for a function, use\\n``np.cos?<ENTER>`` (to view the docstring) and ``np.cos??<ENTER>`` (to view\\nthe source code).\\n\\nCopies vs. in-place operation\\n-----------------------------\\nMost of the functions in `numpy` return a copy of the array argument\\n(e.g., `np.sort`).  In-place versions of these functions are often\\navailable as array methods, i.e. ``x = np.array([1,2,3]); x.sort()``.\\nExceptions to this rule are documented.\\n\\n', '__package__': 'numpy', '__loader__': <_frozen_importlib_external.SourceFileLoader object at 0x7faf263d1060>, '__spec__': ModuleSpec(name='numpy', loader=<_frozen_importlib_external.SourceFileLoader object at 0x7faf263d1060>, origin='/usr/local/lib/python3.10/dist-packages/numpy/__init__.py', submodule_search_locations=['/usr/local/lib/python3.10/dist-packages/numpy']), '__path__': ['/usr/local/lib/python3.10/dist-packages/numpy'], '__file__': '/usr/local/lib/python3.10/dist-packages/numpy/__init__.py', '__cached__': '/usr/local/lib/python3.10/dist-packages/numpy/__pycache__/__init__.cpython-310.pyc', '__builtins__': {'__name__': 'builtins', '__doc__': \"Built-in functions, exceptions, and other objects.\\n\\nNoteworthy: None is the `nil' object; Ellipsis represents `...' in slices.\", '__package__': '', '__loader__': <class '_frozen_importlib.BuiltinImporter'>, '__spec__': ModuleSpec(name='builtins', loader=<class '_frozen_importlib.BuiltinImporter'>, origin='built-in'), '__build_class__': <built-in function __build_class__>, '__import__': <built-in function __import__>, 'abs': <built-in function abs>, 'all': <built-in function all>, 'any': <built-in function any>, 'ascii': <built-in function ascii>, 'bin': <built-in function bin>, 'breakpoint': <built-in function breakpoint>, 'callable': <built-in function callable>, 'chr': <built-in function chr>, 'compile': <built-in function compile>, 'delattr': <built-in function delattr>, 'dir': <built-in function dir>, 'divmod': <built-in function divmod>, 'eval': <built-in function eval>, 'exec': <built-in function exec>, 'format': <built-in function format>, 'getattr': <built-in function getattr>, 'globals': <built-in function globals>, 'hasattr': <built-in function hasattr>, 'hash': <built-in function hash>, 'hex': <built-in function hex>, 'id': <built-in function id>, 'input': <bound method Kernel.raw_input of <google.colab._kernel.Kernel object at 0x7faf2070fca0>>, 'isinstance': <built-in function isinstance>, 'issubclass': <built-in function issubclass>, 'iter': <built-in function iter>, 'aiter': <built-in function aiter>, 'len': <built-in function len>, 'locals': <built-in function locals>, 'max': <built-in function max>, 'min': <built-in function min>, 'next': <built-in function next>, 'anext': <built-in function anext>, 'oct': <built-in function oct>, 'ord': <built-in function ord>, 'pow': <built-in function pow>, 'print': <built-in function print>, 'repr': <built-in function repr>, 'round': <built-in function round>, 'setattr': <built-in function setattr>, 'sorted': <built-in function sorted>, 'sum': <built-in function sum>, 'vars': <built-in function vars>, 'None': None, 'Ellipsis': Ellipsis, 'NotImplemented': NotImplemented, 'False': False, 'True': True, 'bool': <class 'bool'>, 'memoryview': <class 'memoryview'>, 'bytearray': <class 'bytearray'>, 'bytes': <class 'bytes'>, 'classmethod': <class 'classmethod'>, 'complex': <class 'complex'>, 'dict': <class 'dict'>, 'enumerate': <class 'enumerate'>, 'filter': <class 'filter'>, 'float': <class 'float'>, 'frozenset': <class 'frozenset'>, 'property': <class 'property'>, 'int': <class 'int'>, 'list': <class 'list'>, 'map': <class 'map'>, 'object': <class 'object'>, 'range': <class 'range'>, 'reversed': <class 'reversed'>, 'set': <class 'set'>, 'slice': <class 'slice'>, 'staticmethod': <class 'staticmethod'>, 'str': <class 'str'>, 'super': <class 'super'>, 'tuple': <class 'tuple'>, 'type': <class 'type'>, 'zip': <class 'zip'>, '__debug__': True, 'BaseException': <class 'BaseException'>, 'Exception': <class 'Exception'>, 'TypeError': <class 'TypeError'>, 'StopAsyncIteration': <class 'StopAsyncIteration'>, 'StopIteration': <class 'StopIteration'>, 'GeneratorExit': <class 'GeneratorExit'>, 'SystemExit': <class 'SystemExit'>, 'KeyboardInterrupt': <class 'KeyboardInterrupt'>, 'ImportError': <class 'ImportError'>, 'ModuleNotFoundError': <class 'ModuleNotFoundError'>, 'OSError': <class 'OSError'>, 'EnvironmentError': <class 'OSError'>, 'IOError': <class 'OSError'>, 'EOFError': <class 'EOFError'>, 'RuntimeError': <class 'RuntimeError'>, 'RecursionError': <class 'RecursionError'>, 'NotImplementedError': <class 'NotImplementedError'>, 'NameError': <class 'NameError'>, 'UnboundLocalError': <class 'UnboundLocalError'>, 'AttributeError': <class 'AttributeError'>, 'SyntaxError': <class 'SyntaxError'>, 'IndentationError': <class 'IndentationError'>, 'TabError': <class 'TabError'>, 'LookupError': <class 'LookupError'>, 'IndexError': <class 'IndexError'>, 'KeyError': <class 'KeyError'>, 'ValueError': <class 'ValueError'>, 'UnicodeError': <class 'UnicodeError'>, 'UnicodeEncodeError': <class 'UnicodeEncodeError'>, 'UnicodeDecodeError': <class 'UnicodeDecodeError'>, 'UnicodeTranslateError': <class 'UnicodeTranslateError'>, 'AssertionError': <class 'AssertionError'>, 'ArithmeticError': <class 'ArithmeticError'>, 'FloatingPointError': <class 'FloatingPointError'>, 'OverflowError': <class 'OverflowError'>, 'ZeroDivisionError': <class 'ZeroDivisionError'>, 'SystemError': <class 'SystemError'>, 'ReferenceError': <class 'ReferenceError'>, 'MemoryError': <class 'MemoryError'>, 'BufferError': <class 'BufferError'>, 'Warning': <class 'Warning'>, 'UserWarning': <class 'UserWarning'>, 'EncodingWarning': <class 'EncodingWarning'>, 'DeprecationWarning': <class 'DeprecationWarning'>, 'PendingDeprecationWarning': <class 'PendingDeprecationWarning'>, 'SyntaxWarning': <class 'SyntaxWarning'>, 'RuntimeWarning': <class 'RuntimeWarning'>, 'FutureWarning': <class 'FutureWarning'>, 'ImportWarning': <class 'ImportWarning'>, 'UnicodeWarning': <class 'UnicodeWarning'>, 'BytesWarning': <class 'BytesWarning'>, 'ResourceWarning': <class 'ResourceWarning'>, 'ConnectionError': <class 'ConnectionError'>, 'BlockingIOError': <class 'BlockingIOError'>, 'BrokenPipeError': <class 'BrokenPipeError'>, 'ChildProcessError': <class 'ChildProcessError'>, 'ConnectionAbortedError': <class 'ConnectionAbortedError'>, 'ConnectionRefusedError': <class 'ConnectionRefusedError'>, 'ConnectionResetError': <class 'ConnectionResetError'>, 'FileExistsError': <class 'FileExistsError'>, 'FileNotFoundError': <class 'FileNotFoundError'>, 'IsADirectoryError': <class 'IsADirectoryError'>, 'NotADirectoryError': <class 'NotADirectoryError'>, 'InterruptedError': <class 'InterruptedError'>, 'PermissionError': <class 'PermissionError'>, 'ProcessLookupError': <class 'ProcessLookupError'>, 'TimeoutError': <class 'TimeoutError'>, 'open': <built-in function open>, 'copyright': Copyright (c) 2001-2023 Python Software Foundation.\n",
      "All Rights Reserved.\n",
      "\n",
      "Copyright (c) 2000 BeOpen.com.\n",
      "All Rights Reserved.\n",
      "\n",
      "Copyright (c) 1995-2001 Corporation for National Research Initiatives.\n",
      "All Rights Reserved.\n",
      "\n",
      "Copyright (c) 1991-1995 Stichting Mathematisch Centrum, Amsterdam.\n",
      "All Rights Reserved., 'credits':     Thanks to CWI, CNRI, BeOpen.com, Zope Corporation and a cast of thousands\n",
      "    for supporting Python development.  See www.python.org for more information., 'license': Type license() to see the full license text, 'help': Type help() for interactive help, or help(object) for help about object., '__IPYTHON__': True, 'display': <function display at 0x7faf27e649d0>, 'execfile': <function execfile at 0x7faf0f769240>, 'runfile': <function runfile at 0x7faf0f642dd0>, 'get_ipython': <bound method InteractiveShell.get_ipython of <google.colab._shell.Shell object at 0x7faf2070fd30>>}, 'sys': <module 'sys' (built-in)>, 'warnings': <module 'warnings' from '/usr/lib/python3.10/warnings.py'>, '_globals': <module 'numpy._globals' from '/usr/local/lib/python3.10/dist-packages/numpy/_globals.py'>, 'ModuleDeprecationWarning': <class 'numpy.ModuleDeprecationWarning'>, 'VisibleDeprecationWarning': <class 'numpy.VisibleDeprecationWarning'>, '_NoValue': <no value>, '_CopyMode': <enum '_CopyMode'>, '__NUMPY_SETUP__': False, '__config__': <module 'numpy.__config__' from '/usr/local/lib/python3.10/dist-packages/numpy/__config__.py'>, 'show_config': <function show at 0x7faf263e5000>, '__all__': ['ModuleDeprecationWarning', 'VisibleDeprecationWarning', '__version__', 'show_config', 'char', 'rec', 'memmap', 'newaxis', 'ndarray', 'flatiter', 'nditer', 'nested_iters', 'ufunc', 'arange', 'array', 'asarray', 'asanyarray', 'ascontiguousarray', 'asfortranarray', 'zeros', 'count_nonzero', 'empty', 'broadcast', 'dtype', 'fromstring', 'fromfile', 'frombuffer', '_from_dlpack', 'where', 'argwhere', 'copyto', 'concatenate', 'fastCopyAndTranspose', 'lexsort', 'set_numeric_ops', 'can_cast', 'promote_types', 'min_scalar_type', 'result_type', 'isfortran', 'empty_like', 'zeros_like', 'ones_like', 'correlate', 'convolve', 'inner', 'dot', 'outer', 'vdot', 'roll', 'rollaxis', 'moveaxis', 'cross', 'tensordot', 'little_endian', 'fromiter', 'array_equal', 'array_equiv', 'indices', 'fromfunction', 'isclose', 'isscalar', 'binary_repr', 'base_repr', 'ones', 'identity', 'allclose', 'compare_chararrays', 'putmask', 'flatnonzero', 'Inf', 'inf', 'infty', 'Infinity', 'nan', 'NaN', 'False_', 'True_', 'bitwise_not', 'CLIP', 'RAISE', 'WRAP', 'MAXDIMS', 'BUFSIZE', 'ALLOW_THREADS', 'ComplexWarning', 'full', 'full_like', 'matmul', 'shares_memory', 'may_share_memory', 'MAY_SHARE_BOUNDS', 'MAY_SHARE_EXACT', 'TooHardError', 'AxisError', 'alen', 'all', 'alltrue', 'amax', 'amin', 'any', 'argmax', 'argmin', 'argpartition', 'argsort', 'around', 'choose', 'clip', 'compress', 'cumprod', 'cumproduct', 'cumsum', 'diagonal', 'mean', 'ndim', 'nonzero', 'partition', 'prod', 'product', 'ptp', 'put', 'ravel', 'repeat', 'reshape', 'resize', 'round_', 'searchsorted', 'shape', 'size', 'sometrue', 'sort', 'squeeze', 'std', 'sum', 'swapaxes', 'take', 'trace', 'transpose', 'var', '_UFUNC_API', 'ERR_CALL', 'ERR_DEFAULT', 'ERR_IGNORE', 'ERR_LOG', 'ERR_PRINT', 'ERR_RAISE', 'ERR_WARN', 'FLOATING_POINT_SUPPORT', 'FPE_DIVIDEBYZERO', 'FPE_INVALID', 'FPE_OVERFLOW', 'FPE_UNDERFLOW', 'NAN', 'NINF', 'NZERO', 'PINF', 'PZERO', 'SHIFT_DIVIDEBYZERO', 'SHIFT_INVALID', 'SHIFT_OVERFLOW', 'SHIFT_UNDERFLOW', 'UFUNC_BUFSIZE_DEFAULT', 'UFUNC_PYVALS_NAME', '_add_newdoc_ufunc', 'absolute', 'add', 'arccos', 'arccosh', 'arcsin', 'arcsinh', 'arctan', 'arctan2', 'arctanh', 'bitwise_and', 'bitwise_or', 'bitwise_xor', 'cbrt', 'ceil', 'conj', 'conjugate', 'copysign', 'cos', 'cosh', 'deg2rad', 'degrees', 'divide', 'divmod', 'e', 'equal', 'euler_gamma', 'exp', 'exp2', 'expm1', 'fabs', 'floor', 'floor_divide', 'float_power', 'fmax', 'fmin', 'fmod', 'frexp', 'frompyfunc', 'gcd', 'geterrobj', 'greater', 'greater_equal', 'heaviside', 'hypot', 'invert', 'isfinite', 'isinf', 'isnan', 'isnat', 'lcm', 'ldexp', 'left_shift', 'less', 'less_equal', 'log', 'log10', 'log1p', 'log2', 'logaddexp', 'logaddexp2', 'logical_and', 'logical_not', 'logical_or', 'logical_xor', 'maximum', 'minimum', 'mod', 'modf', 'multiply', 'negative', 'nextafter', 'not_equal', 'pi', 'positive', 'power', 'rad2deg', 'radians', 'reciprocal', 'remainder', 'right_shift', 'rint', 'seterrobj', 'sign', 'signbit', 'sin', 'sinh', 'spacing', 'sqrt', 'square', 'subtract', 'tan', 'tanh', 'true_divide', 'trunc', 'sctypeDict', 'sctypes', 'ScalarType', 'obj2sctype', 'cast', 'nbytes', 'sctype2char', 'maximum_sctype', 'issctype', 'typecodes', 'find_common_type', 'datetime_data', 'datetime_as_string', 'busday_offset', 'busday_count', 'is_busday', 'busdaycalendar', 'byte', 'ubyte', 'short', 'ushort', 'uint', 'intp', 'uintp', 'longlong', 'ulonglong', 'half', 'double', 'longdouble', 'cfloat', 'cdouble', 'clongdouble', 'void', 'generic', 'number', 'integer', 'inexact', 'signedinteger', 'unsignedinteger', 'floating', 'complexfloating', 'flexible', 'character', 'bool8', 'int64', 'uint64', 'float16', 'float32', 'float64', 'float128', 'complex64', 'complex128', 'complex256', 'object0', 'bytes0', 'str0', 'void0', 'datetime64', 'timedelta64', 'int32', 'uint32', 'int16', 'uint16', 'int8', 'uint8', 'complex_', 'int0', 'uint0', 'single', 'csingle', 'singlecomplex', 'float_', 'intc', 'uintc', 'int_', 'longfloat', 'clongfloat', 'longcomplex', 'bool_', 'bytes_', 'string_', 'str_', 'unicode_', 'object_', 'array2string', 'array_str', 'array_repr', 'set_string_function', 'set_printoptions', 'get_printoptions', 'printoptions', 'format_float_positional', 'format_float_scientific', 'require', 'seterr', 'geterr', 'setbufsize', 'getbufsize', 'seterrcall', 'geterrcall', 'errstate', 'record', 'recarray', 'format_parser', 'chararray', 'logspace', 'linspace', 'geomspace', 'finfo', 'iinfo', 'atleast_1d', 'atleast_2d', 'atleast_3d', 'block', 'hstack', 'stack', 'vstack', 'einsum', 'einsum_path', 'matrix', 'bmat', 'mat', 'asmatrix', 'emath', 'math', 'tracemalloc_domain', 'iscomplexobj', 'isrealobj', 'imag', 'iscomplex', 'isreal', 'nan_to_num', 'real', 'real_if_close', 'typename', 'asfarray', 'mintypecode', 'asscalar', 'common_type', 'ravel_multi_index', 'unravel_index', 'mgrid', 'ogrid', 'r_', 'c_', 's_', 'index_exp', 'ix_', 'ndenumerate', 'ndindex', 'fill_diagonal', 'diag_indices', 'diag_indices_from', 'select', 'piecewise', 'trim_zeros', 'copy', 'iterable', 'percentile', 'diff', 'gradient', 'angle', 'unwrap', 'sort_complex', 'disp', 'flip', 'rot90', 'extract', 'place', 'vectorize', 'asarray_chkfinite', 'average', 'bincount', 'digitize', 'cov', 'corrcoef', 'msort', 'median', 'sinc', 'hamming', 'hanning', 'bartlett', 'blackman', 'kaiser', 'trapz', 'i0', 'add_newdoc', 'add_docstring', 'meshgrid', 'delete', 'insert', 'append', 'interp', 'add_newdoc_ufunc', 'quantile', 'column_stack', 'row_stack', 'dstack', 'array_split', 'split', 'hsplit', 'vsplit', 'dsplit', 'apply_over_axes', 'expand_dims', 'apply_along_axis', 'kron', 'tile', 'get_array_wrap', 'take_along_axis', 'put_along_axis', 'broadcast_to', 'broadcast_arrays', 'broadcast_shapes', 'diag', 'diagflat', 'eye', 'fliplr', 'flipud', 'tri', 'triu', 'tril', 'vander', 'histogram2d', 'mask_indices', 'tril_indices', 'tril_indices_from', 'triu_indices', 'triu_indices_from', 'fix', 'isneginf', 'isposinf', 'pad', 'poly', 'roots', 'polyint', 'polyder', 'polyadd', 'polysub', 'polymul', 'polydiv', 'polyval', 'poly1d', 'polyfit', 'RankWarning', 'issubclass_', 'issubsctype', 'issubdtype', 'deprecate', 'deprecate_with_doc', 'get_include', 'info', 'source', 'who', 'lookfor', 'byte_bounds', 'safe_eval', 'ediff1d', 'intersect1d', 'setxor1d', 'union1d', 'setdiff1d', 'unique', 'in1d', 'isin', 'savetxt', 'loadtxt', 'genfromtxt', 'recfromtxt', 'recfromcsv', 'load', 'save', 'savez', 'savez_compressed', 'packbits', 'unpackbits', 'fromregex', 'DataSource', 'nansum', 'nanmax', 'nanmin', 'nanargmax', 'nanargmin', 'nanmean', 'nanmedian', 'nanpercentile', 'nanvar', 'nanstd', 'nanprod', 'nancumsum', 'nancumprod', 'nanquantile', 'histogram', 'histogramdd', 'histogram_bin_edges', 'linalg', 'fft', 'random', 'ctypeslib', 'ma'], '__deprecated_attrs__': {'object': (<class 'object'>, '`np.object` is a deprecated alias for the builtin `object`. To silence this warning, use `object` by itself. Doing this will not modify any behavior and is safe. \\nDeprecated in NumPy 1.20; for more details and guidance: https://numpy.org/devdocs/release/1.20.0-notes.html#deprecations'), 'bool': (<class 'bool'>, '`np.bool` is a deprecated alias for the builtin `bool`. To silence this warning, use `bool` by itself. Doing this will not modify any behavior and is safe. If you specifically wanted the numpy scalar type, use `np.bool_` here.\\nDeprecated in NumPy 1.20; for more details and guidance: https://numpy.org/devdocs/release/1.20.0-notes.html#deprecations'), 'float': (<class 'float'>, '`np.float` is a deprecated alias for the builtin `float`. To silence this warning, use `float` by itself. Doing this will not modify any behavior and is safe. If you specifically wanted the numpy scalar type, use `np.float64` here.\\nDeprecated in NumPy 1.20; for more details and guidance: https://numpy.org/devdocs/release/1.20.0-notes.html#deprecations'), 'complex': (<class 'complex'>, '`np.complex` is a deprecated alias for the builtin `complex`. To silence this warning, use `complex` by itself. Doing this will not modify any behavior and is safe. If you specifically wanted the numpy scalar type, use `np.complex128` here.\\nDeprecated in NumPy 1.20; for more details and guidance: https://numpy.org/devdocs/release/1.20.0-notes.html#deprecations'), 'str': (<class 'str'>, '`np.str` is a deprecated alias for the builtin `str`. To silence this warning, use `str` by itself. Doing this will not modify any behavior and is safe. If you specifically wanted the numpy scalar type, use `np.str_` here.\\nDeprecated in NumPy 1.20; for more details and guidance: https://numpy.org/devdocs/release/1.20.0-notes.html#deprecations'), 'int': (<class 'int'>, '`np.int` is a deprecated alias for the builtin `int`. To silence this warning, use `int` by itself. Doing this will not modify any behavior and is safe. When replacing `np.int`, you may wish to use e.g. `np.int64` or `np.int32` to specify the precision. If you wish to review your current use, check the release note link for additional information.\\nDeprecated in NumPy 1.20; for more details and guidance: https://numpy.org/devdocs/release/1.20.0-notes.html#deprecations'), 'typeDict': ({'?': <class 'numpy.bool_'>, 0: <class 'numpy.bool_'>, 'byte': <class 'numpy.int8'>, 'b': <class 'numpy.int8'>, 1: <class 'numpy.int8'>, 'ubyte': <class 'numpy.uint8'>, 'B': <class 'numpy.uint8'>, 2: <class 'numpy.uint8'>, 'short': <class 'numpy.int16'>, 'h': <class 'numpy.int16'>, 3: <class 'numpy.int16'>, 'ushort': <class 'numpy.uint16'>, 'H': <class 'numpy.uint16'>, 4: <class 'numpy.uint16'>, 'i': <class 'numpy.int32'>, 5: <class 'numpy.int32'>, 'uint': <class 'numpy.uint64'>, 'I': <class 'numpy.uint32'>, 6: <class 'numpy.uint32'>, 'intp': <class 'numpy.int64'>, 'p': <class 'numpy.int64'>, 7: <class 'numpy.int64'>, 'uintp': <class 'numpy.uint64'>, 'P': <class 'numpy.uint64'>, 8: <class 'numpy.uint64'>, 'long': <class 'numpy.int64'>, 'l': <class 'numpy.int64'>, 'L': <class 'numpy.uint64'>, 'longlong': <class 'numpy.longlong'>, 'q': <class 'numpy.longlong'>, 9: <class 'numpy.longlong'>, 'ulonglong': <class 'numpy.ulonglong'>, 'Q': <class 'numpy.ulonglong'>, 10: <class 'numpy.ulonglong'>, 'half': <class 'numpy.float16'>, 'e': <class 'numpy.float16'>, 23: <class 'numpy.float16'>, 'f': <class 'numpy.float32'>, 11: <class 'numpy.float32'>, 'double': <class 'numpy.float64'>, 'd': <class 'numpy.float64'>, 12: <class 'numpy.float64'>, 'longdouble': <class 'numpy.float128'>, 'g': <class 'numpy.float128'>, 13: <class 'numpy.float128'>, 'cfloat': <class 'numpy.complex128'>, 'F': <class 'numpy.complex64'>, 14: <class 'numpy.complex64'>, 'cdouble': <class 'numpy.complex128'>, 'D': <class 'numpy.complex128'>, 15: <class 'numpy.complex128'>, 'clongdouble': <class 'numpy.complex256'>, 'G': <class 'numpy.complex256'>, 16: <class 'numpy.complex256'>, 'O': <class 'numpy.object_'>, 17: <class 'numpy.object_'>, 'S': <class 'numpy.bytes_'>, 18: <class 'numpy.bytes_'>, 'unicode': <class 'numpy.str_'>, 'U': <class 'numpy.str_'>, 19: <class 'numpy.str_'>, 'void': <class 'numpy.void'>, 'V': <class 'numpy.void'>, 20: <class 'numpy.void'>, 'M': <class 'numpy.datetime64'>, 21: <class 'numpy.datetime64'>, 'm': <class 'numpy.timedelta64'>, 22: <class 'numpy.timedelta64'>, 'bool8': <class 'numpy.bool_'>, 'b1': <class 'numpy.bool_'>, 'int64': <class 'numpy.int64'>, 'i8': <class 'numpy.int64'>, 'uint64': <class 'numpy.uint64'>, 'u8': <class 'numpy.uint64'>, 'float16': <class 'numpy.float16'>, 'f2': <class 'numpy.float16'>, 'float32': <class 'numpy.float32'>, 'f4': <class 'numpy.float32'>, 'float64': <class 'numpy.float64'>, 'f8': <class 'numpy.float64'>, 'float128': <class 'numpy.float128'>, 'f16': <class 'numpy.float128'>, 'complex64': <class 'numpy.complex64'>, 'c8': <class 'numpy.complex64'>, 'complex128': <class 'numpy.complex128'>, 'c16': <class 'numpy.complex128'>, 'complex256': <class 'numpy.complex256'>, 'c32': <class 'numpy.complex256'>, 'object0': <class 'numpy.object_'>, 'bytes0': <class 'numpy.bytes_'>, 'str0': <class 'numpy.str_'>, 'void0': <class 'numpy.void'>, 'datetime64': <class 'numpy.datetime64'>, 'M8': <class 'numpy.datetime64'>, 'timedelta64': <class 'numpy.timedelta64'>, 'm8': <class 'numpy.timedelta64'>, 'int32': <class 'numpy.int32'>, 'i4': <class 'numpy.int32'>, 'uint32': <class 'numpy.uint32'>, 'u4': <class 'numpy.uint32'>, 'int16': <class 'numpy.int16'>, 'i2': <class 'numpy.int16'>, 'uint16': <class 'numpy.uint16'>, 'u2': <class 'numpy.uint16'>, 'int8': <class 'numpy.int8'>, 'i1': <class 'numpy.int8'>, 'uint8': <class 'numpy.uint8'>, 'u1': <class 'numpy.uint8'>, 'complex_': <class 'numpy.complex128'>, 'int0': <class 'numpy.int64'>, 'uint0': <class 'numpy.uint64'>, 'single': <class 'numpy.float32'>, 'csingle': <class 'numpy.complex64'>, 'singlecomplex': <class 'numpy.complex64'>, 'float_': <class 'numpy.float64'>, 'intc': <class 'numpy.int32'>, 'uintc': <class 'numpy.uint32'>, 'int_': <class 'numpy.int64'>, 'longfloat': <class 'numpy.float128'>, 'clongfloat': <class 'numpy.complex256'>, 'longcomplex': <class 'numpy.complex256'>, 'bool_': <class 'numpy.bool_'>, 'bytes_': <class 'numpy.bytes_'>, 'string_': <class 'numpy.bytes_'>, 'str_': <class 'numpy.str_'>, 'unicode_': <class 'numpy.str_'>, 'object_': <class 'numpy.object_'>, 'int': <class 'numpy.int64'>, 'float': <class 'numpy.float64'>, 'complex': <class 'numpy.complex128'>, 'bool': <class 'numpy.bool_'>, 'object': <class 'numpy.object_'>, 'str': <class 'numpy.str_'>, 'bytes': <class 'numpy.bytes_'>, 'a': <class 'numpy.bytes_'>}, '`np.typeDict` is a deprecated alias for `np.sctypeDict`.'), 'MachAr': (<class 'numpy.MachAr'>, '`np.MachAr` is deprecated (NumPy 1.22).'), 'long': (<class 'int'>, '`np.long` is a deprecated alias for `np.compat.long`. To silence this warning, use `np.compat.long` by itself. In the likely event your code does not need to work on Python 2 you can use the builtin `int` for which `np.compat.long` is itself an alias. Doing this will not modify any behaviour and is safe. When replacing `np.long`, you may wish to use e.g. `np.int64` or `np.int32` to specify the precision. If you wish to review your current use, check the release note link for additional information.\\nDeprecated in NumPy 1.20; for more details and guidance: https://numpy.org/devdocs/release/1.20.0-notes.html#deprecations'), 'unicode': (<class 'str'>, '`np.unicode` is a deprecated alias for `np.compat.unicode`. To silence this warning, use `np.compat.unicode` by itself. In the likely event your code does not need to work on Python 2 you can use the builtin `str` for which `np.compat.unicode` is itself an alias. Doing this will not modify any behaviour and is safe. If you specifically wanted the numpy scalar type, use `np.str_` here.\\nDeprecated in NumPy 1.20; for more details and guidance: https://numpy.org/devdocs/release/1.20.0-notes.html#deprecations')}, '_distributor_init': <module 'numpy._distributor_init' from '/usr/local/lib/python3.10/dist-packages/numpy/_distributor_init.py'>, '_version': <module 'numpy._version' from '/usr/local/lib/python3.10/dist-packages/numpy/_version.py'>, 'version': <module 'numpy.version' from '/usr/local/lib/python3.10/dist-packages/numpy/version.py'>, 'compat': <module 'numpy.compat' from '/usr/local/lib/python3.10/dist-packages/numpy/compat/__init__.py'>, '_pytesttester': <module 'numpy._pytesttester' from '/usr/local/lib/python3.10/dist-packages/numpy/_pytesttester.py'>, 'core': <module 'numpy.core' from '/usr/local/lib/python3.10/dist-packages/numpy/core/__init__.py'>, 'char': <module 'numpy.core.defchararray' from '/usr/local/lib/python3.10/dist-packages/numpy/core/defchararray.py'>, 'rec': <module 'numpy.core.records' from '/usr/local/lib/python3.10/dist-packages/numpy/core/records.py'>, 'memmap': <class 'numpy.memmap'>, 'newaxis': None, 'ndarray': <class 'numpy.ndarray'>, 'flatiter': <class 'numpy.flatiter'>, 'nditer': <class 'numpy.nditer'>, 'nested_iters': <built-in function nested_iters>, 'ufunc': <class 'numpy.ufunc'>, 'arange': <built-in function arange>, 'array': <built-in function array>, 'asarray': <built-in function asarray>, 'asanyarray': <built-in function asanyarray>, 'ascontiguousarray': <built-in function ascontiguousarray>, 'asfortranarray': <built-in function asfortranarray>, 'zeros': <built-in function zeros>, 'count_nonzero': <function count_nonzero at 0x7faf262cbe20>, 'empty': <built-in function empty>, 'broadcast': <class 'numpy.broadcast'>, 'dtype': <class 'numpy.dtype'>, 'fromstring': <built-in function fromstring>, 'fromfile': <built-in function fromfile>, 'frombuffer': <built-in function frombuffer>, '_from_dlpack': <built-in function _from_dlpack>, 'where': <function where at 0x7faf263e72e0>, 'argwhere': <function argwhere at 0x7faf262dc0d0>, 'copyto': <function copyto at 0x7faf263e7e20>, 'concatenate': <function concatenate at 0x7faf263e70a0>, 'fastCopyAndTranspose': <built-in function _fastCopyAndTranspose>, 'lexsort': <function lexsort at 0x7faf263e7400>, 'set_numeric_ops': <built-in function set_numeric_ops>, 'can_cast': <function can_cast at 0x7faf263e7520>, 'promote_types': <built-in function promote_types>, 'min_scalar_type': <function min_scalar_type at 0x7faf263e7640>, 'result_type': <function result_type at 0x7faf263e7760>, 'isfortran': <function isfortran at 0x7faf262cbeb0>, 'empty_like': <function empty_like at 0x7faf263e6f80>, 'zeros_like': <function zeros_like at 0x7faf262cb5b0>, 'ones_like': <function ones_like at 0x7faf262cb910>, 'correlate': <function correlate at 0x7faf262dc430>, 'convolve': <function convolve at 0x7faf262dc5e0>, 'inner': <function inner at 0x7faf263e71c0>, 'dot': <function dot at 0x7faf263e7880>, 'outer': <function outer at 0x7faf262dc790>, 'vdot': <function vdot at 0x7faf263e79a0>, 'roll': <function roll at 0x7faf262dcaf0>, 'rollaxis': <function rollaxis at 0x7faf262dcca0>, 'moveaxis': <function moveaxis at 0x7faf262dcee0>, 'cross': <function cross at 0x7faf262dd090>, 'tensordot': <function tensordot at 0x7faf262dc940>, 'little_endian': True, 'fromiter': <built-in function fromiter>, 'array_equal': <function array_equal at 0x7faf262ddc60>, 'array_equiv': <function array_equiv at 0x7faf262dde10>, 'indices': <function indices at 0x7faf262dd120>, 'fromfunction': <function fromfunction at 0x7faf262dd240>, 'isclose': <function isclose at 0x7faf262ddab0>, 'isscalar': <function isscalar at 0x7faf262dd3f0>, 'binary_repr': <function binary_repr at 0x7faf262dd480>, 'base_repr': <function base_repr at 0x7faf262dd510>, 'ones': <function ones at 0x7faf262cb6d0>, 'identity': <function identity at 0x7faf262dd6c0>, 'allclose': <function allclose at 0x7faf262dd900>, 'compare_chararrays': <built-in function compare_chararrays>, 'putmask': <function putmask at 0x7faf263e7f40>, 'flatnonzero': <function flatnonzero at 0x7faf262dc280>, 'Inf': inf, 'inf': inf, 'infty': inf, 'Infinity': inf, 'nan': nan, 'NaN': nan, 'False_': False, 'True_': True, 'bitwise_not': <ufunc 'invert'>, 'CLIP': 0, 'RAISE': 2, 'WRAP': 1, 'MAXDIMS': 32, 'BUFSIZE': 8192, 'ALLOW_THREADS': 1, 'ComplexWarning': <class 'numpy.ComplexWarning'>, 'full': <function full at 0x7faf262cba30>, 'full_like': <function full_like at 0x7faf262cbc70>, 'matmul': <ufunc 'matmul'>, 'shares_memory': <function shares_memory at 0x7faf2628c310>, 'may_share_memory': <function may_share_memory at 0x7faf2628c430>, 'MAY_SHARE_BOUNDS': 0, 'MAY_SHARE_EXACT': -1, 'TooHardError': <class 'numpy.TooHardError'>, 'AxisError': <class 'numpy.AxisError'>, 'alen': <function alen at 0x7faf262c8940>, 'all': <function all at 0x7faf262c80d0>, 'alltrue': <function alltrue at 0x7faf262c9c60>, 'amax': <function amax at 0x7faf262c85e0>, 'amin': <function amin at 0x7faf262c8790>, 'any': <function any at 0x7faf262bfeb0>, 'argmax': <function argmax at 0x7faf262be8c0>, 'argmin': <function argmin at 0x7faf262bea70>, 'argpartition': <function argpartition at 0x7faf262be3b0>, 'argsort': <function argsort at 0x7faf262be710>, 'around': <function around at 0x7faf262c91b0>, 'choose': <function choose at 0x7faf262bd990>, 'clip': <function clip at 0x7faf262bfb50>, 'compress': <function compress at 0x7faf262bf9a0>, 'cumprod': <function cumprod at 0x7faf262c8ca0>, 'cumproduct': <function cumproduct at 0x7faf262c9a20>, 'cumsum': <function cumsum at 0x7faf262c8280>, 'diagonal': <function diagonal at 0x7faf262bf130>, 'mean': <function mean at 0x7faf262c9360>, 'ndim': <function ndim at 0x7faf262c8e50>, 'nonzero': <function nonzero at 0x7faf262bf640>, 'partition': <function partition at 0x7faf262be200>, 'prod': <function prod at 0x7faf262c8af0>, 'product': <function product at 0x7faf262c9900>, 'ptp': <function ptp at 0x7faf262c8430>, 'put': <function put at 0x7faf262bdcf0>, 'ravel': <function ravel at 0x7faf262bf490>, 'repeat': <function repeat at 0x7faf262bdb40>, 'reshape': <function reshape at 0x7faf262bd7e0>, 'resize': <function resize at 0x7faf262bedd0>, 'round_': <function round_ at 0x7faf262c97e0>, 'searchsorted': <function searchsorted at 0x7faf262bec20>, 'shape': <function shape at 0x7faf262bf7f0>, 'size': <function size at 0x7faf262c9000>, 'sometrue': <function sometrue at 0x7faf262c9b40>, 'sort': <function sort at 0x7faf262be560>, 'squeeze': <function squeeze at 0x7faf262bef80>, 'std': <function std at 0x7faf262c9510>, 'sum': <function sum at 0x7faf262bfd00>, 'swapaxes': <function swapaxes at 0x7faf262bdea0>, 'take': <function take at 0x7faf262bd630>, 'trace': <function trace at 0x7faf262bf2e0>, 'transpose': <function transpose at 0x7faf262be050>, 'var': <function var at 0x7faf262c96c0>, '_UFUNC_API': <capsule object NULL at 0x7faf263d38d0>, 'ERR_CALL': 3, 'ERR_DEFAULT': 521, 'ERR_IGNORE': 0, 'ERR_LOG': 5, 'ERR_PRINT': 4, 'ERR_RAISE': 2, 'ERR_WARN': 1, 'FLOATING_POINT_SUPPORT': 1, 'FPE_DIVIDEBYZERO': 1, 'FPE_INVALID': 8, 'FPE_OVERFLOW': 2, 'FPE_UNDERFLOW': 4, 'NAN': nan, 'NINF': -inf, 'NZERO': -0.0, 'PINF': inf, 'PZERO': 0.0, 'SHIFT_DIVIDEBYZERO': 0, 'SHIFT_INVALID': 9, 'SHIFT_OVERFLOW': 3, 'SHIFT_UNDERFLOW': 6, 'UFUNC_BUFSIZE_DEFAULT': 8192, 'UFUNC_PYVALS_NAME': 'UFUNC_PYVALS', '_add_newdoc_ufunc': <built-in function _add_newdoc_ufunc>, 'absolute': <ufunc 'absolute'>, 'add': <ufunc 'add'>, 'arccos': <ufunc 'arccos'>, 'arccosh': <ufunc 'arccosh'>, 'arcsin': <ufunc 'arcsin'>, 'arcsinh': <ufunc 'arcsinh'>, 'arctan': <ufunc 'arctan'>, 'arctan2': <ufunc 'arctan2'>, 'arctanh': <ufunc 'arctanh'>, 'bitwise_and': <ufunc 'bitwise_and'>, 'bitwise_or': <ufunc 'bitwise_or'>, 'bitwise_xor': <ufunc 'bitwise_xor'>, 'cbrt': <ufunc 'cbrt'>, 'ceil': <ufunc 'ceil'>, 'conj': <ufunc 'conjugate'>, 'conjugate': <ufunc 'conjugate'>, 'copysign': <ufunc 'copysign'>, 'cos': <ufunc 'cos'>, 'cosh': <ufunc 'cosh'>, 'deg2rad': <ufunc 'deg2rad'>, 'degrees': <ufunc 'degrees'>, 'divide': <ufunc 'true_divide'>, 'divmod': <ufunc 'divmod'>, 'e': 2.718281828459045, 'equal': <ufunc 'equal'>, 'euler_gamma': 0.5772156649015329, 'exp': <ufunc 'exp'>, 'exp2': <ufunc 'exp2'>, 'expm1': <ufunc 'expm1'>, 'fabs': <ufunc 'fabs'>, 'floor': <ufunc 'floor'>, 'floor_divide': <ufunc 'floor_divide'>, 'float_power': <ufunc 'float_power'>, 'fmax': <ufunc 'fmax'>, 'fmin': <ufunc 'fmin'>, 'fmod': <ufunc 'fmod'>, 'frexp': <ufunc 'frexp'>, 'frompyfunc': <built-in function frompyfunc>, 'gcd': <ufunc 'gcd'>, 'geterrobj': <built-in function geterrobj>, 'greater': <ufunc 'greater'>, 'greater_equal': <ufunc 'greater_equal'>, 'heaviside': <ufunc 'heaviside'>, 'hypot': <ufunc 'hypot'>, 'invert': <ufunc 'invert'>, 'isfinite': <ufunc 'isfinite'>, 'isinf': <ufunc 'isinf'>, 'isnan': <ufunc 'isnan'>, 'isnat': <ufunc 'isnat'>, 'lcm': <ufunc 'lcm'>, 'ldexp': <ufunc 'ldexp'>, 'left_shift': <ufunc 'left_shift'>, 'less': <ufunc 'less'>, 'less_equal': <ufunc 'less_equal'>, 'log': <ufunc 'log'>, 'log10': <ufunc 'log10'>, 'log1p': <ufunc 'log1p'>, 'log2': <ufunc 'log2'>, 'logaddexp': <ufunc 'logaddexp'>, 'logaddexp2': <ufunc 'logaddexp2'>, 'logical_and': <ufunc 'logical_and'>, 'logical_not': <ufunc 'logical_not'>, 'logical_or': <ufunc 'logical_or'>, 'logical_xor': <ufunc 'logical_xor'>, 'maximum': <ufunc 'maximum'>, 'minimum': <ufunc 'minimum'>, 'mod': <ufunc 'remainder'>, 'modf': <ufunc 'modf'>, 'multiply': <ufunc 'multiply'>, 'negative': <ufunc 'negative'>, 'nextafter': <ufunc 'nextafter'>, 'not_equal': <ufunc 'not_equal'>, 'pi': 3.141592653589793, 'positive': <ufunc 'positive'>, 'power': <ufunc 'power'>, 'rad2deg': <ufunc 'rad2deg'>, 'radians': <ufunc 'radians'>, 'reciprocal': <ufunc 'reciprocal'>, 'remainder': <ufunc 'remainder'>, 'right_shift': <ufunc 'right_shift'>, 'rint': <ufunc 'rint'>, 'seterrobj': <built-in function seterrobj>, 'sign': <ufunc 'sign'>, 'signbit': <ufunc 'signbit'>, 'sin': <ufunc 'sin'>, 'sinh': <ufunc 'sinh'>, 'spacing': <ufunc 'spacing'>, 'sqrt': <ufunc 'sqrt'>, 'square': <ufunc 'square'>, 'subtract': <ufunc 'subtract'>, 'tan': <ufunc 'tan'>, 'tanh': <ufunc 'tanh'>, 'true_divide': <ufunc 'true_divide'>, 'trunc': <ufunc 'trunc'>, 'sctypeDict': {'?': <class 'numpy.bool_'>, 0: <class 'numpy.bool_'>, 'byte': <class 'numpy.int8'>, 'b': <class 'numpy.int8'>, 1: <class 'numpy.int8'>, 'ubyte': <class 'numpy.uint8'>, 'B': <class 'numpy.uint8'>, 2: <class 'numpy.uint8'>, 'short': <class 'numpy.int16'>, 'h': <class 'numpy.int16'>, 3: <class 'numpy.int16'>, 'ushort': <class 'numpy.uint16'>, 'H': <class 'numpy.uint16'>, 4: <class 'numpy.uint16'>, 'i': <class 'numpy.int32'>, 5: <class 'numpy.int32'>, 'uint': <class 'numpy.uint64'>, 'I': <class 'numpy.uint32'>, 6: <class 'numpy.uint32'>, 'intp': <class 'numpy.int64'>, 'p': <class 'numpy.int64'>, 7: <class 'numpy.int64'>, 'uintp': <class 'numpy.uint64'>, 'P': <class 'numpy.uint64'>, 8: <class 'numpy.uint64'>, 'long': <class 'numpy.int64'>, 'l': <class 'numpy.int64'>, 'L': <class 'numpy.uint64'>, 'longlong': <class 'numpy.longlong'>, 'q': <class 'numpy.longlong'>, 9: <class 'numpy.longlong'>, 'ulonglong': <class 'numpy.ulonglong'>, 'Q': <class 'numpy.ulonglong'>, 10: <class 'numpy.ulonglong'>, 'half': <class 'numpy.float16'>, 'e': <class 'numpy.float16'>, 23: <class 'numpy.float16'>, 'f': <class 'numpy.float32'>, 11: <class 'numpy.float32'>, 'double': <class 'numpy.float64'>, 'd': <class 'numpy.float64'>, 12: <class 'numpy.float64'>, 'longdouble': <class 'numpy.float128'>, 'g': <class 'numpy.float128'>, 13: <class 'numpy.float128'>, 'cfloat': <class 'numpy.complex128'>, 'F': <class 'numpy.complex64'>, 14: <class 'numpy.complex64'>, 'cdouble': <class 'numpy.complex128'>, 'D': <class 'numpy.complex128'>, 15: <class 'numpy.complex128'>, 'clongdouble': <class 'numpy.complex256'>, 'G': <class 'numpy.complex256'>, 16: <class 'numpy.complex256'>, 'O': <class 'numpy.object_'>, 17: <class 'numpy.object_'>, 'S': <class 'numpy.bytes_'>, 18: <class 'numpy.bytes_'>, 'unicode': <class 'numpy.str_'>, 'U': <class 'numpy.str_'>, 19: <class 'numpy.str_'>, 'void': <class 'numpy.void'>, 'V': <class 'numpy.void'>, 20: <class 'numpy.void'>, 'M': <class 'numpy.datetime64'>, 21: <class 'numpy.datetime64'>, 'm': <class 'numpy.timedelta64'>, 22: <class 'numpy.timedelta64'>, 'bool8': <class 'numpy.bool_'>, 'b1': <class 'numpy.bool_'>, 'int64': <class 'numpy.int64'>, 'i8': <class 'numpy.int64'>, 'uint64': <class 'numpy.uint64'>, 'u8': <class 'numpy.uint64'>, 'float16': <class 'numpy.float16'>, 'f2': <class 'numpy.float16'>, 'float32': <class 'numpy.float32'>, 'f4': <class 'numpy.float32'>, 'float64': <class 'numpy.float64'>, 'f8': <class 'numpy.float64'>, 'float128': <class 'numpy.float128'>, 'f16': <class 'numpy.float128'>, 'complex64': <class 'numpy.complex64'>, 'c8': <class 'numpy.complex64'>, 'complex128': <class 'numpy.complex128'>, 'c16': <class 'numpy.complex128'>, 'complex256': <class 'numpy.complex256'>, 'c32': <class 'numpy.complex256'>, 'object0': <class 'numpy.object_'>, 'bytes0': <class 'numpy.bytes_'>, 'str0': <class 'numpy.str_'>, 'void0': <class 'numpy.void'>, 'datetime64': <class 'numpy.datetime64'>, 'M8': <class 'numpy.datetime64'>, 'timedelta64': <class 'numpy.timedelta64'>, 'm8': <class 'numpy.timedelta64'>, 'int32': <class 'numpy.int32'>, 'i4': <class 'numpy.int32'>, 'uint32': <class 'numpy.uint32'>, 'u4': <class 'numpy.uint32'>, 'int16': <class 'numpy.int16'>, 'i2': <class 'numpy.int16'>, 'uint16': <class 'numpy.uint16'>, 'u2': <class 'numpy.uint16'>, 'int8': <class 'numpy.int8'>, 'i1': <class 'numpy.int8'>, 'uint8': <class 'numpy.uint8'>, 'u1': <class 'numpy.uint8'>, 'complex_': <class 'numpy.complex128'>, 'int0': <class 'numpy.int64'>, 'uint0': <class 'numpy.uint64'>, 'single': <class 'numpy.float32'>, 'csingle': <class 'numpy.complex64'>, 'singlecomplex': <class 'numpy.complex64'>, 'float_': <class 'numpy.float64'>, 'intc': <class 'numpy.int32'>, 'uintc': <class 'numpy.uint32'>, 'int_': <class 'numpy.int64'>, 'longfloat': <class 'numpy.float128'>, 'clongfloat': <class 'numpy.complex256'>, 'longcomplex': <class 'numpy.complex256'>, 'bool_': <class 'numpy.bool_'>, 'bytes_': <class 'numpy.bytes_'>, 'string_': <class 'numpy.bytes_'>, 'str_': <class 'numpy.str_'>, 'unicode_': <class 'numpy.str_'>, 'object_': <class 'numpy.object_'>, 'int': <class 'numpy.int64'>, 'float': <class 'numpy.float64'>, 'complex': <class 'numpy.complex128'>, 'bool': <class 'numpy.bool_'>, 'object': <class 'numpy.object_'>, 'str': <class 'numpy.str_'>, 'bytes': <class 'numpy.bytes_'>, 'a': <class 'numpy.bytes_'>}, 'sctypes': {'int': [<class 'numpy.int8'>, <class 'numpy.int16'>, <class 'numpy.int32'>, <class 'numpy.int64'>], 'uint': [<class 'numpy.uint8'>, <class 'numpy.uint16'>, <class 'numpy.uint32'>, <class 'numpy.uint64'>], 'float': [<class 'numpy.float16'>, <class 'numpy.float32'>, <class 'numpy.float64'>, <class 'numpy.float128'>], 'complex': [<class 'numpy.complex64'>, <class 'numpy.complex128'>, <class 'numpy.complex256'>], 'others': [<class 'bool'>, <class 'object'>, <class 'bytes'>, <class 'str'>, <class 'numpy.void'>]}, 'ScalarType': (<class 'int'>, <class 'float'>, <class 'complex'>, <class 'int'>, <class 'bool'>, <class 'bytes'>, <class 'str'>, <class 'memoryview'>, <class 'numpy.bool_'>, <class 'numpy.complex64'>, <class 'numpy.complex128'>, <class 'numpy.complex256'>, <class 'numpy.float16'>, <class 'numpy.float32'>, <class 'numpy.float64'>, <class 'numpy.float128'>, <class 'numpy.int8'>, <class 'numpy.int16'>, <class 'numpy.int32'>, <class 'numpy.int64'>, <class 'numpy.longlong'>, <class 'numpy.timedelta64'>, <class 'numpy.datetime64'>, <class 'numpy.object_'>, <class 'numpy.bytes_'>, <class 'numpy.str_'>, <class 'numpy.uint8'>, <class 'numpy.uint16'>, <class 'numpy.uint32'>, <class 'numpy.uint64'>, <class 'numpy.ulonglong'>, <class 'numpy.void'>), 'obj2sctype': <function obj2sctype at 0x7faf2628e050>, 'cast': {<class 'numpy.uint64'>: <function <lambda> at 0x7faf2628e320>, <class 'numpy.int64'>: <function <lambda> at 0x7faf2628e440>, <class 'numpy.str_'>: <function <lambda> at 0x7faf2628e4d0>, <class 'numpy.complex128'>: <function <lambda> at 0x7faf2628e560>, <class 'numpy.float64'>: <function <lambda> at 0x7faf2628e5f0>, <class 'numpy.uint32'>: <function <lambda> at 0x7faf2628e680>, <class 'numpy.int32'>: <function <lambda> at 0x7faf2628e710>, <class 'numpy.bytes_'>: <function <lambda> at 0x7faf2628e7a0>, <class 'numpy.complex64'>: <function <lambda> at 0x7faf2628e830>, <class 'numpy.float32'>: <function <lambda> at 0x7faf2628e8c0>, <class 'numpy.uint16'>: <function <lambda> at 0x7faf2628e950>, <class 'numpy.int16'>: <function <lambda> at 0x7faf2628e9e0>, <class 'numpy.bool_'>: <function <lambda> at 0x7faf2628ea70>, <class 'numpy.timedelta64'>: <function <lambda> at 0x7faf2628eb00>, <class 'numpy.float16'>: <function <lambda> at 0x7faf2628eb90>, <class 'numpy.uint8'>: <function <lambda> at 0x7faf2628ec20>, <class 'numpy.int8'>: <function <lambda> at 0x7faf2628ecb0>, <class 'numpy.object_'>: <function <lambda> at 0x7faf2628ed40>, <class 'numpy.datetime64'>: <function <lambda> at 0x7faf2628edd0>, <class 'numpy.ulonglong'>: <function <lambda> at 0x7faf2628ee60>, <class 'numpy.longlong'>: <function <lambda> at 0x7faf2628eef0>, <class 'numpy.void'>: <function <lambda> at 0x7faf2628ef80>, <class 'numpy.complex256'>: <function <lambda> at 0x7faf2628f010>, <class 'numpy.float128'>: <function <lambda> at 0x7faf2628f0a0>}, 'nbytes': {<class 'numpy.bool_'>: 1, <class 'numpy.int8'>: 1, <class 'numpy.uint8'>: 1, <class 'numpy.int16'>: 2, <class 'numpy.uint16'>: 2, <class 'numpy.int32'>: 4, <class 'numpy.uint32'>: 4, <class 'numpy.int64'>: 8, <class 'numpy.uint64'>: 8, <class 'numpy.longlong'>: 8, <class 'numpy.ulonglong'>: 8, <class 'numpy.float16'>: 2, <class 'numpy.float32'>: 4, <class 'numpy.float64'>: 8, <class 'numpy.float128'>: 16, <class 'numpy.complex64'>: 8, <class 'numpy.complex128'>: 16, <class 'numpy.complex256'>: 32, <class 'numpy.object_'>: 8, <class 'numpy.bytes_'>: 0, <class 'numpy.str_'>: 0, <class 'numpy.void'>: 0, <class 'numpy.datetime64'>: 8, <class 'numpy.timedelta64'>: 8}, 'sctype2char': <function sctype2char at 0x7faf2628e3b0>, 'maximum_sctype': <function maximum_sctype at 0x7faf2628df30>, 'issctype': <function issctype at 0x7faf2628dfc0>, 'typecodes': {'Character': 'c', 'Integer': 'bhilqp', 'UnsignedInteger': 'BHILQP', 'Float': 'efdg', 'Complex': 'FDG', 'AllInteger': 'bBhHiIlLqQpP', 'AllFloat': 'efdgFDG', 'Datetime': 'Mm', 'All': '?bhilqpBHILQPefdgFDGSUVOMm'}, 'find_common_type': <function find_common_type at 0x7faf2628f370>, 'issubdtype': <function issubdtype at 0x7faf2628e200>, 'datetime_data': <built-in function datetime_data>, 'datetime_as_string': <function datetime_as_string at 0x7faf2628c8b0>, 'busday_offset': <function busday_offset at 0x7faf2628c670>, 'busday_count': <function busday_count at 0x7faf2628c790>, 'is_busday': <function is_busday at 0x7faf2628c550>, 'busdaycalendar': <class 'numpy.busdaycalendar'>, 'byte': <class 'numpy.int8'>, 'ubyte': <class 'numpy.uint8'>, 'short': <class 'numpy.int16'>, 'ushort': <class 'numpy.uint16'>, 'uint': <class 'numpy.uint64'>, 'intp': <class 'numpy.int64'>, 'uintp': <class 'numpy.uint64'>, 'longlong': <class 'numpy.longlong'>, 'ulonglong': <class 'numpy.ulonglong'>, 'half': <class 'numpy.float16'>, 'double': <class 'numpy.float64'>, 'longdouble': <class 'numpy.float128'>, 'cfloat': <class 'numpy.complex128'>, 'cdouble': <class 'numpy.complex128'>, 'clongdouble': <class 'numpy.complex256'>, 'void': <class 'numpy.void'>, 'generic': <class 'numpy.generic'>, 'number': <class 'numpy.number'>, 'integer': <class 'numpy.integer'>, 'inexact': <class 'numpy.inexact'>, 'signedinteger': <class 'numpy.signedinteger'>, 'unsignedinteger': <class 'numpy.unsignedinteger'>, 'floating': <class 'numpy.floating'>, 'complexfloating': <class 'numpy.complexfloating'>, 'flexible': <class 'numpy.flexible'>, 'character': <class 'numpy.character'>, 'bool8': <class 'numpy.bool_'>, 'int64': <class 'numpy.int64'>, 'uint64': <class 'numpy.uint64'>, 'float16': <class 'numpy.float16'>, 'float32': <class 'numpy.float32'>, 'float64': <class 'numpy.float64'>, 'float128': <class 'numpy.float128'>, 'complex64': <class 'numpy.complex64'>, 'complex128': <class 'numpy.complex128'>, 'complex256': <class 'numpy.complex256'>, 'object0': <class 'numpy.object_'>, 'bytes0': <class 'numpy.bytes_'>, 'str0': <class 'numpy.str_'>, 'void0': <class 'numpy.void'>, 'datetime64': <class 'numpy.datetime64'>, 'timedelta64': <class 'numpy.timedelta64'>, 'int32': <class 'numpy.int32'>, 'uint32': <class 'numpy.uint32'>, 'int16': <class 'numpy.int16'>, 'uint16': <class 'numpy.uint16'>, 'int8': <class 'numpy.int8'>, 'uint8': <class 'numpy.uint8'>, 'complex_': <class 'numpy.complex128'>, 'int0': <class 'numpy.int64'>, 'uint0': <class 'numpy.uint64'>, 'single': <class 'numpy.float32'>, 'csingle': <class 'numpy.complex64'>, 'singlecomplex': <class 'numpy.complex64'>, 'float_': <class 'numpy.float64'>, 'intc': <class 'numpy.int32'>, 'uintc': <class 'numpy.uint32'>, 'int_': <class 'numpy.int64'>, 'longfloat': <class 'numpy.float128'>, 'clongfloat': <class 'numpy.complex256'>, 'longcomplex': <class 'numpy.complex256'>, 'bool_': <class 'numpy.bool_'>, 'bytes_': <class 'numpy.bytes_'>, 'string_': <class 'numpy.bytes_'>, 'str_': <class 'numpy.str_'>, 'unicode_': <class 'numpy.str_'>, 'object_': <class 'numpy.object_'>, 'array2string': <function array2string at 0x7faf262df250>, 'array_str': <function array_str at 0x7faf20ee8940>, 'array_repr': <function array_repr at 0x7faf20ee85e0>, 'set_string_function': <function set_string_function at 0x7faf20ee8820>, 'set_printoptions': <function set_printoptions at 0x7faf262de7a0>, 'get_printoptions': <function get_printoptions at 0x7faf262de830>, 'printoptions': <function printoptions at 0x7faf262de9e0>, 'format_float_positional': <function format_float_positional at 0x7faf262df760>, 'format_float_scientific': <function format_float_scientific at 0x7faf262df6d0>, 'require': <function require at 0x7faf20ee8c10>, 'seterr': <function seterr at 0x7faf262caf80>, 'geterr': <function geterr at 0x7faf262cb010>, 'setbufsize': <function setbufsize at 0x7faf262cb0a0>, 'getbufsize': <function getbufsize at 0x7faf262cb130>, 'seterrcall': <function seterrcall at 0x7faf262cb1c0>, 'geterrcall': <function geterrcall at 0x7faf262cb250>, 'errstate': <class 'numpy.errstate'>, 'record': <class 'numpy.record'>, 'recarray': <class 'numpy.recarray'>, 'format_parser': <class 'numpy.format_parser'>, 'chararray': <class 'numpy.chararray'>, 'logspace': <function logspace at 0x7faf20f18f70>, 'linspace': <function linspace at 0x7faf20f18dc0>, 'geomspace': <function geomspace at 0x7faf20f19120>, 'finfo': <class 'numpy.finfo'>, 'iinfo': <class 'numpy.iinfo'>, 'atleast_1d': <function atleast_1d at 0x7faf262c9d80>, 'atleast_2d': <function atleast_2d at 0x7faf262c9f30>, 'atleast_3d': <function atleast_3d at 0x7faf262ca0e0>, 'block': <function block at 0x7faf262cab90>, 'hstack': <function hstack at 0x7faf262ca440>, 'stack': <function stack at 0x7faf262ca5f0>, 'vstack': <function vstack at 0x7faf262ca320>, 'einsum': <function einsum at 0x7faf20f1b250>, 'einsum_path': <function einsum_path at 0x7faf20f1b0a0>, 'linalg': <module 'numpy.linalg' from '/usr/local/lib/python3.10/dist-packages/numpy/linalg/__init__.py'>, 'matrixlib': <module 'numpy.matrixlib' from '/usr/local/lib/python3.10/dist-packages/numpy/matrixlib/__init__.py'>, 'lib': <module 'numpy.lib' from '/usr/local/lib/python3.10/dist-packages/numpy/lib/__init__.py'>, 'emath': <module 'numpy.lib.scimath' from '/usr/local/lib/python3.10/dist-packages/numpy/lib/scimath.py'>, 'math': <module 'math' (built-in)>, 'tracemalloc_domain': 389047, 'iscomplexobj': <function iscomplexobj at 0x7faf20f5ad40>, 'isrealobj': <function isrealobj at 0x7faf20f5ae60>, 'imag': <function imag at 0x7faf20f5a950>, 'iscomplex': <function iscomplex at 0x7faf20f5ab00>, 'isreal': <function isreal at 0x7faf20f5ac20>, 'nan_to_num': <function nan_to_num at 0x7faf20f5b0a0>, 'real': <function real at 0x7faf20f5a7a0>, 'real_if_close': <function real_if_close at 0x7faf20f5b250>, 'typename': <function typename at 0x7faf20f5b490>, 'asfarray': <function asfarray at 0x7faf20f5a5f0>, 'mintypecode': <function mintypecode at 0x7faf20f59f30>, 'asscalar': <function asscalar at 0x7faf20f5b400>, 'common_type': <function common_type at 0x7faf20f5b640>, 'ravel_multi_index': <function ravel_multi_index at 0x7faf263e7be0>, 'unravel_index': <function unravel_index at 0x7faf263e7d00>, 'mgrid': <numpy.lib.index_tricks.MGridClass object at 0x7faf20f5de10>, 'ogrid': <numpy.lib.index_tricks.OGridClass object at 0x7faf20fd14e0>, 'r_': <numpy.lib.index_tricks.RClass object at 0x7faf20fd15a0>, 'c_': <numpy.lib.index_tricks.CClass object at 0x7faf20fd1600>, 's_': <numpy.lib.index_tricks.IndexExpression object at 0x7faf20fd16c0>, 'index_exp': <numpy.lib.index_tricks.IndexExpression object at 0x7faf20fd1660>, 'ix_': <function ix_ at 0x7faf20fda3b0>, 'ndenumerate': <class 'numpy.ndenumerate'>, 'ndindex': <class 'numpy.ndindex'>, 'fill_diagonal': <function fill_diagonal at 0x7faf20fdaf80>, 'diag_indices': <function diag_indices at 0x7faf20fdb010>, 'diag_indices_from': <function diag_indices_from at 0x7faf20fdb1c0>, 'select': <function select at 0x7faf20fce680>, 'piecewise': <function piecewise at 0x7faf20fce4d0>, 'trim_zeros': <function trim_zeros at 0x7faf20fcf400>, 'copy': <function copy at 0x7faf20fce830>, 'iterable': <function iterable at 0x7faf20fce0e0>, 'percentile': <function percentile at 0x7faf20fd8f70>, 'diff': <function diff at 0x7faf20fceb90>, 'gradient': <function gradient at 0x7faf20fce9e0>, 'angle': <function angle at 0x7faf20fceef0>, 'unwrap': <function unwrap at 0x7faf20fcf0a0>, 'sort_complex': <function sort_complex at 0x7faf20fcf250>, 'disp': <function disp at 0x7faf20fcf640>, 'flip': <function flip at 0x7faf20fce050>, 'rot90': <function rot90 at 0x7faf20fcdea0>, 'extract': <function extract at 0x7faf20fcf5b0>, 'place': <function place at 0x7faf20fcf760>, 'vectorize': <class 'numpy.vectorize'>, 'asarray_chkfinite': <function asarray_chkfinite at 0x7faf20fce320>, 'average': <function average at 0x7faf20fce290>, 'bincount': <function bincount at 0x7faf263e7ac0>, 'digitize': <function digitize at 0x7faf20fda290>, 'cov': <function cov at 0x7faf20fcff40>, 'corrcoef': <function corrcoef at 0x7faf20fd8160>, 'msort': <function msort at 0x7faf20fd8af0>, 'median': <function median at 0x7faf20fd8d30>, 'sinc': <function sinc at 0x7faf20fd8940>, 'hamming': <function hamming at 0x7faf20fd83a0>, 'hanning': <function hanning at 0x7faf20fd8310>, 'bartlett': <function bartlett at 0x7faf20fd8280>, 'blackman': <function blackman at 0x7faf20fd81f0>, 'kaiser': <function kaiser at 0x7faf20fd8790>, 'trapz': <function trapz at 0x7faf20fd9a20>, 'i0': <function i0 at 0x7faf20fd8700>, 'add_newdoc': <function add_newdoc at 0x7faf20f19240>, 'add_docstring': <built-in function add_docstring>, 'meshgrid': <function meshgrid at 0x7faf20fd9bd0>, 'delete': <function delete at 0x7faf20fd9d80>, 'insert': <function insert at 0x7faf20fd9f30>, 'append': <function append at 0x7faf20fda0e0>, 'interp': <function interp at 0x7faf20fced40>, 'add_newdoc_ufunc': <built-in function _add_newdoc_ufunc>, 'quantile': <function quantile at 0x7faf20fd9120>, 'column_stack': <function column_stack at 0x7faf20d95e10>, 'row_stack': <function vstack at 0x7faf262ca320>, 'dstack': <function dstack at 0x7faf20d95fc0>, 'array_split': <function array_split at 0x7faf20d96200>, 'split': <function split at 0x7faf20d963b0>, 'hsplit': <function hsplit at 0x7faf20d96560>, 'vsplit': <function vsplit at 0x7faf20d96680>, 'dsplit': <function dsplit at 0x7faf20d967a0>, 'apply_over_axes': <function apply_over_axes at 0x7faf20d95ab0>, 'expand_dims': <function expand_dims at 0x7faf20d95c60>, 'apply_along_axis': <function apply_along_axis at 0x7faf20d95900>, 'kron': <function kron at 0x7faf20d96a70>, 'tile': <function tile at 0x7faf20d96c20>, 'get_array_wrap': <function get_array_wrap at 0x7faf20d96830>, 'take_along_axis': <function take_along_axis at 0x7faf20d955a0>, 'put_along_axis': <function put_along_axis at 0x7faf20d95750>, 'broadcast_to': <function broadcast_to at 0x7faf20f69c60>, 'broadcast_arrays': <function broadcast_arrays at 0x7faf20f69f30>, 'broadcast_shapes': <function broadcast_shapes at 0x7faf20f69d80>, 'diag': <function diag at 0x7faf20f6a560>, 'diagflat': <function diagflat at 0x7faf20f6a680>, 'eye': <function eye at 0x7faf20f6a320>, 'fliplr': <function fliplr at 0x7faf20f6a0e0>, 'flipud': <function flipud at 0x7faf20f6a200>, 'tri': <function tri at 0x7faf20f6a7a0>, 'triu': <function triu at 0x7faf20f6ab00>, 'tril': <function tril at 0x7faf20f6a9e0>, 'vander': <function vander at 0x7faf20f6acb0>, 'histogram2d': <function histogram2d at 0x7faf20f6ae60>, 'mask_indices': <function mask_indices at 0x7faf20f6aef0>, 'tril_indices': <function tril_indices at 0x7faf20f6af80>, 'tril_indices_from': <function tril_indices_from at 0x7faf20f6b130>, 'triu_indices': <function triu_indices at 0x7faf20f6b1c0>, 'triu_indices_from': <function triu_indices_from at 0x7faf20f6b2e0>, 'fix': <function fix at 0x7faf20f5a0e0>, 'isneginf': <function isneginf at 0x7faf20f5a440>, 'isposinf': <function isposinf at 0x7faf20f5a290>, 'pad': <function pad at 0x7faf20ded510>, 'poly': <function poly at 0x7faf20d971c0>, 'roots': <function roots at 0x7faf20d97370>, 'polyint': <function polyint at 0x7faf20d97520>, 'polyder': <function polyder at 0x7faf20d976d0>, 'polyadd': <function polyadd at 0x7faf20d97be0>, 'polysub': <function polysub at 0x7faf20d97d00>, 'polymul': <function polymul at 0x7faf20d97e20>, 'polydiv': <function polydiv at 0x7faf20db4040>, 'polyval': <function polyval at 0x7faf20d97a30>, 'poly1d': <class 'numpy.poly1d'>, 'polyfit': <function polyfit at 0x7faf20d97880>, 'RankWarning': <class 'numpy.RankWarning'>, 'issubclass_': <function issubclass_ at 0x7faf2628e0e0>, 'issubsctype': <function issubsctype at 0x7faf2628e170>, 'deprecate': <function deprecate at 0x7faf20db5750>, 'deprecate_with_doc': <function deprecate_with_doc at 0x7faf20db57e0>, 'get_include': <function get_include at 0x7faf20db40d0>, 'info': <function info at 0x7faf20db5bd0>, 'source': <function source at 0x7faf20db5c60>, 'who': <function who at 0x7faf20db5900>, 'lookfor': <function lookfor at 0x7faf20db5cf0>, 'byte_bounds': <function byte_bounds at 0x7faf20db5870>, 'safe_eval': <function safe_eval at 0x7faf20db5e10>, 'ediff1d': <function ediff1d at 0x7faf20db63b0>, 'intersect1d': <function intersect1d at 0x7faf20db6830>, 'setxor1d': <function setxor1d at 0x7faf20db69e0>, 'union1d': <function union1d at 0x7faf20db6ef0>, 'setdiff1d': <function setdiff1d at 0x7faf20db70a0>, 'unique': <function unique at 0x7faf20db65f0>, 'in1d': <function in1d at 0x7faf20db6b90>, 'isin': <function isin at 0x7faf20db6d40>, 'savetxt': <function savetxt at 0x7faf20dec3a0>, 'loadtxt': <function loadtxt at 0x7faf20dec160>, 'genfromtxt': <function genfromtxt at 0x7faf20dec550>, 'recfromtxt': <function recfromtxt at 0x7faf20dec4c0>, 'recfromcsv': <function recfromcsv at 0x7faf20dec670>, 'load': <function load at 0x7faf20dd3640>, 'save': <function save at 0x7faf20dd37f0>, 'savez': <function savez at 0x7faf20dd39a0>, 'savez_compressed': <function savez_compressed at 0x7faf20dd3b50>, 'packbits': <function packbits at 0x7faf2628c0d0>, 'unpackbits': <function unpackbits at 0x7faf2628c1f0>, 'fromregex': <function fromregex at 0x7faf20dec430>, 'DataSource': <class 'numpy.DataSource'>, 'nansum': <function nansum at 0x7faf20d94040>, 'nanmax': <function nanmax at 0x7faf20fdbac0>, 'nanmin': <function nanmin at 0x7faf20fdb910>, 'nanargmax': <function nanargmax at 0x7faf20fdbe20>, 'nanargmin': <function nanargmin at 0x7faf20fdbc70>, 'nanmean': <function nanmean at 0x7faf20d94700>, 'nanmedian': <function nanmedian at 0x7faf20d94a60>, 'nanpercentile': <function nanpercentile at 0x7faf20d94c10>, 'nanvar': <function nanvar at 0x7faf20d95120>, 'nanstd': <function nanstd at 0x7faf20d952d0>, 'nanprod': <function nanprod at 0x7faf20d941f0>, 'nancumsum': <function nancumsum at 0x7faf20d943a0>, 'nancumprod': <function nancumprod at 0x7faf20d94550>, 'nanquantile': <function nanquantile at 0x7faf20d94dc0>, 'histogram': <function histogram at 0x7faf20fccdc0>, 'histogramdd': <function histogramdd at 0x7faf20fccf70>, 'histogram_bin_edges': <function histogram_bin_edges at 0x7faf20fccc10>, 'fft': <module 'numpy.fft' from '/usr/local/lib/python3.10/dist-packages/numpy/fft/__init__.py'>, 'polynomial': <module 'numpy.polynomial' from '/usr/local/lib/python3.10/dist-packages/numpy/polynomial/__init__.py'>, 'random': <module 'numpy.random' from '/usr/local/lib/python3.10/dist-packages/numpy/random/__init__.py'>, 'ctypeslib': <module 'numpy.ctypeslib' from '/usr/local/lib/python3.10/dist-packages/numpy/ctypeslib.py'>, 'ma': <module 'numpy.ma' from '/usr/local/lib/python3.10/dist-packages/numpy/ma/__init__.py'>, '_mat': <module 'numpy.matrixlib' from '/usr/local/lib/python3.10/dist-packages/numpy/matrixlib/__init__.py'>, 'matrix': <class 'numpy.matrix'>, 'bmat': <function bmat at 0x7faf20faf250>, 'mat': <function asmatrix at 0x7faf20fadf30>, 'asmatrix': <function asmatrix at 0x7faf20fadf30>, 'round': <function round_ at 0x7faf262c97e0>, 'abs': <ufunc 'absolute'>, 'max': <function amax at 0x7faf262c85e0>, 'min': <function amin at 0x7faf262c8790>, '_financial_names': ['fv', 'ipmt', 'irr', 'mirr', 'nper', 'npv', 'pmt', 'ppmt', 'pv', 'rate'], '__expired_functions__': {'fv': 'In accordance with NEP 32, the function fv was removed from NumPy version 1.20.  A replacement for this function is available in the numpy_financial library: https://pypi.org/project/numpy-financial', 'ipmt': 'In accordance with NEP 32, the function ipmt was removed from NumPy version 1.20.  A replacement for this function is available in the numpy_financial library: https://pypi.org/project/numpy-financial', 'irr': 'In accordance with NEP 32, the function irr was removed from NumPy version 1.20.  A replacement for this function is available in the numpy_financial library: https://pypi.org/project/numpy-financial', 'mirr': 'In accordance with NEP 32, the function mirr was removed from NumPy version 1.20.  A replacement for this function is available in the numpy_financial library: https://pypi.org/project/numpy-financial', 'nper': 'In accordance with NEP 32, the function nper was removed from NumPy version 1.20.  A replacement for this function is available in the numpy_financial library: https://pypi.org/project/numpy-financial', 'npv': 'In accordance with NEP 32, the function npv was removed from NumPy version 1.20.  A replacement for this function is available in the numpy_financial library: https://pypi.org/project/numpy-financial', 'pmt': 'In accordance with NEP 32, the function pmt was removed from NumPy version 1.20.  A replacement for this function is available in the numpy_financial library: https://pypi.org/project/numpy-financial', 'ppmt': 'In accordance with NEP 32, the function ppmt was removed from NumPy version 1.20.  A replacement for this function is available in the numpy_financial library: https://pypi.org/project/numpy-financial', 'pv': 'In accordance with NEP 32, the function pv was removed from NumPy version 1.20.  A replacement for this function is available in the numpy_financial library: https://pypi.org/project/numpy-financial', 'rate': 'In accordance with NEP 32, the function rate was removed from NumPy version 1.20.  A replacement for this function is available in the numpy_financial library: https://pypi.org/project/numpy-financial'}, 'oldnumeric': 'removed', 'numarray': 'removed', '__getattr__': <function __getattr__ at 0x7faf263e4a60>, '__dir__': <function __dir__ at 0x7faf20e3b760>, 'test': <numpy._pytesttester.PytestTester object at 0x7faf20e6bca0>, 'os': <module 'os' from '/usr/lib/python3.10/os.py'>, 'use_hugepage': 1, 'kernel_version': (5, 15), '__version__': '1.22.4', '__git_version__': '99766d3bd6da8a3fbf3e3e3867cd98e36f4c0b8c', 'testing': <module 'numpy.testing' from '/usr/local/lib/python3.10/dist-packages/numpy/testing/__init__.py'>, '__annotations__': {}}\n"
     ]
    }
   ],
   "source": [
    "print(np.__dict__)\n"
   ]
  },
  {
   "cell_type": "code",
   "execution_count": 5,
   "metadata": {
    "colab": {
     "base_uri": "https://localhost:8080/"
    },
    "id": "4Mlk5iKBYsgk",
    "outputId": "fbbeb0da-3fe5-4a98-ffc6-9b13fd2b5ca0"
   },
   "outputs": [
    {
     "name": "stdout",
     "output_type": "stream",
     "text": [
      "1.22.4\n"
     ]
    }
   ],
   "source": [
    "print(np.__version__)"
   ]
  },
  {
   "cell_type": "code",
   "execution_count": 6,
   "metadata": {
    "id": "i-5WHH8hYx8G"
   },
   "outputs": [],
   "source": [
    "# The array object in python is called ndarry"
   ]
  },
  {
   "cell_type": "code",
   "execution_count": 7,
   "metadata": {
    "id": "eePhe1_3ZQST"
   },
   "outputs": [],
   "source": [
    "arr = np.array((1,2,4,5))"
   ]
  },
  {
   "cell_type": "code",
   "execution_count": 8,
   "metadata": {
    "colab": {
     "base_uri": "https://localhost:8080/"
    },
    "id": "rfMvKNsjZWEs",
    "outputId": "df7a2cc7-5d0f-4fb7-8221-31315b41c866"
   },
   "outputs": [
    {
     "name": "stdout",
     "output_type": "stream",
     "text": [
      "[1 2 4 5]\n"
     ]
    }
   ],
   "source": [
    "print(arr)"
   ]
  },
  {
   "cell_type": "code",
   "execution_count": 13,
   "metadata": {
    "colab": {
     "base_uri": "https://localhost:8080/"
    },
    "id": "GKzS3LOFZaL7",
    "outputId": "bc5fc52d-8ff0-49c6-e402-c3e7cd41fe67"
   },
   "outputs": [
    {
     "data": {
      "text/plain": [
       "array(45)"
      ]
     },
     "execution_count": 13,
     "metadata": {},
     "output_type": "execute_result"
    }
   ],
   "source": [
    "# Dimensions in Array:\n",
    "# depth of an array\n",
    "\n",
    "# 0 dimensional array:0-D arrays are the elemsnts in an array. Each value in an array is a 0-D array.\n",
    "\n",
    "arr = np.array(45)\n",
    "arr\n"
   ]
  },
  {
   "cell_type": "code",
   "execution_count": 14,
   "metadata": {
    "id": "KSHuV_A3aAH3"
   },
   "outputs": [],
   "source": [
    "# 1-D array: an array that has 0-D arrays as its element.\n",
    "\n",
    "arr1 = np.array([1,2,3,4,5])"
   ]
  },
  {
   "cell_type": "code",
   "execution_count": 15,
   "metadata": {
    "colab": {
     "base_uri": "https://localhost:8080/"
    },
    "id": "VRqOmQOVawTX",
    "outputId": "cf0b0b4d-5039-49c8-fc1d-9e678286e6b0"
   },
   "outputs": [
    {
     "data": {
      "text/plain": [
       "array([1, 2, 3, 4, 5])"
      ]
     },
     "execution_count": 15,
     "metadata": {},
     "output_type": "execute_result"
    }
   ],
   "source": [
    "arr1"
   ]
  },
  {
   "cell_type": "code",
   "execution_count": 16,
   "metadata": {
    "id": "y1qNTGVqaw_Q"
   },
   "outputs": [],
   "source": [
    "# 2-D Arrays: stored in a form of row and columns or represents a matrix.\n",
    "\n",
    "\n",
    "arr2 = np.array([[1,2,3,4,5],[1,2,3,4,5]])"
   ]
  },
  {
   "cell_type": "code",
   "execution_count": 17,
   "metadata": {
    "colab": {
     "base_uri": "https://localhost:8080/"
    },
    "id": "aSQhRYS4bsCV",
    "outputId": "21493771-08a5-4115-8321-819810d54ad0"
   },
   "outputs": [
    {
     "name": "stdout",
     "output_type": "stream",
     "text": [
      "[[1 2 3 4 5]\n",
      " [1 2 3 4 5]]\n"
     ]
    }
   ],
   "source": [
    "print(arr2)"
   ]
  },
  {
   "cell_type": "code",
   "execution_count": 18,
   "metadata": {
    "colab": {
     "base_uri": "https://localhost:8080/"
    },
    "id": "zDeTpoAVbtU-",
    "outputId": "af5e2041-036d-452d-fe0f-a05423f2de6b"
   },
   "outputs": [
    {
     "name": "stdout",
     "output_type": "stream",
     "text": [
      "0\n",
      "1\n",
      "2\n"
     ]
    }
   ],
   "source": [
    "print(arr.ndim)\n",
    "print(arr1.ndim)\n",
    "print(arr2.ndim)"
   ]
  },
  {
   "cell_type": "code",
   "execution_count": 20,
   "metadata": {
    "colab": {
     "base_uri": "https://localhost:8080/"
    },
    "id": "LQHmWateb9ZF",
    "outputId": "5b060c13-16bd-4558-8ec9-65ce1642dd98"
   },
   "outputs": [
    {
     "name": "stdout",
     "output_type": "stream",
     "text": [
      "()\n",
      "(5,)\n",
      "(2, 5)\n"
     ]
    }
   ],
   "source": [
    "print(arr.shape)\n",
    "print(arr1.shape)\n",
    "print(arr2.shape)"
   ]
  },
  {
   "cell_type": "code",
   "execution_count": 22,
   "metadata": {
    "colab": {
     "base_uri": "https://localhost:8080/"
    },
    "id": "IMyj0Gk6ca-g",
    "outputId": "1be99748-d69d-44d1-c808-ffca05f54169"
   },
   "outputs": [
    {
     "data": {
      "text/plain": [
       "2"
      ]
     },
     "execution_count": 22,
     "metadata": {},
     "output_type": "execute_result"
    }
   ],
   "source": [
    "arr3=np.array([[1,2,3,4,5]])\n",
    "arr3.ndim\n"
   ]
  },
  {
   "cell_type": "code",
   "execution_count": null,
   "metadata": {
    "id": "WDlBphpmcInT"
   },
   "outputs": [],
   "source": [
    "\n",
    "# create a matrix full of 1s and 5s\n",
    "# create a matrix full of zeros\n",
    "# create a matrix (4,5) and then tell in which shapes it can be reshaped"
   ]
  },
  {
   "cell_type": "code",
   "execution_count": 31,
   "metadata": {
    "id": "c1iQcmFZc_t8"
   },
   "outputs": [],
   "source": [
    "a = np.ones((5,3),dtype=\"int\")"
   ]
  },
  {
   "cell_type": "code",
   "execution_count": 32,
   "metadata": {
    "colab": {
     "base_uri": "https://localhost:8080/"
    },
    "id": "PRM1BDXtdG6z",
    "outputId": "f1e88d64-593c-42e6-8d34-18046ded55da"
   },
   "outputs": [
    {
     "data": {
      "text/plain": [
       "numpy.ndarray"
      ]
     },
     "execution_count": 32,
     "metadata": {},
     "output_type": "execute_result"
    }
   ],
   "source": [
    "type(a)"
   ]
  },
  {
   "cell_type": "code",
   "execution_count": 33,
   "metadata": {
    "colab": {
     "base_uri": "https://localhost:8080/"
    },
    "id": "DWcoL_gYdLIG",
    "outputId": "f0375db3-9197-477f-8796-90ae53fb8743"
   },
   "outputs": [
    {
     "data": {
      "text/plain": [
       "array([[1, 1, 1],\n",
       "       [1, 1, 1],\n",
       "       [1, 1, 1],\n",
       "       [1, 1, 1],\n",
       "       [1, 1, 1]])"
      ]
     },
     "execution_count": 33,
     "metadata": {},
     "output_type": "execute_result"
    }
   ],
   "source": [
    "a"
   ]
  },
  {
   "cell_type": "code",
   "execution_count": 34,
   "metadata": {
    "colab": {
     "base_uri": "https://localhost:8080/"
    },
    "id": "fwcV3J56dQVf",
    "outputId": "4042ee19-3cb9-4643-8372-b10b40547558"
   },
   "outputs": [
    {
     "data": {
      "text/plain": [
       "dtype('int64')"
      ]
     },
     "execution_count": 34,
     "metadata": {},
     "output_type": "execute_result"
    }
   ],
   "source": [
    "a.dtype"
   ]
  },
  {
   "cell_type": "code",
   "execution_count": 36,
   "metadata": {
    "id": "h882PGvDdU2D"
   },
   "outputs": [],
   "source": [
    "b = np.ones((5,3),dtype=\"int\")*5"
   ]
  },
  {
   "cell_type": "code",
   "execution_count": 37,
   "metadata": {
    "id": "JLZkH_UKdhdl"
   },
   "outputs": [],
   "source": [
    "c = np.full((5,3),5)"
   ]
  },
  {
   "cell_type": "code",
   "execution_count": 38,
   "metadata": {
    "colab": {
     "base_uri": "https://localhost:8080/"
    },
    "id": "ifs8L9mXdpPs",
    "outputId": "e13f9239-ccb3-4868-b33d-ff9aa09f37f4"
   },
   "outputs": [
    {
     "data": {
      "text/plain": [
       "array([[5, 5, 5],\n",
       "       [5, 5, 5],\n",
       "       [5, 5, 5],\n",
       "       [5, 5, 5],\n",
       "       [5, 5, 5]])"
      ]
     },
     "execution_count": 38,
     "metadata": {},
     "output_type": "execute_result"
    }
   ],
   "source": [
    "c"
   ]
  },
  {
   "cell_type": "code",
   "execution_count": 39,
   "metadata": {
    "id": "GqaVq8B_dp2q"
   },
   "outputs": [],
   "source": [
    "c1 = np.full((5,3),1)"
   ]
  },
  {
   "cell_type": "code",
   "execution_count": 40,
   "metadata": {
    "colab": {
     "base_uri": "https://localhost:8080/"
    },
    "id": "SgNYcve7dtnU",
    "outputId": "80c13670-2f91-49c0-f2cf-8dff99781b53"
   },
   "outputs": [
    {
     "data": {
      "text/plain": [
       "array([[1, 1, 1],\n",
       "       [1, 1, 1],\n",
       "       [1, 1, 1],\n",
       "       [1, 1, 1],\n",
       "       [1, 1, 1]])"
      ]
     },
     "execution_count": 40,
     "metadata": {},
     "output_type": "execute_result"
    }
   ],
   "source": [
    "c1"
   ]
  },
  {
   "cell_type": "code",
   "execution_count": 47,
   "metadata": {
    "id": "TcOfnS_7duBg"
   },
   "outputs": [],
   "source": [
    "d = np.identity(2,dtype=\"int\")"
   ]
  },
  {
   "cell_type": "code",
   "execution_count": 48,
   "metadata": {
    "colab": {
     "base_uri": "https://localhost:8080/"
    },
    "id": "7jjz6eZdeD_D",
    "outputId": "5d136547-c641-4167-eb79-82529112c719"
   },
   "outputs": [
    {
     "data": {
      "text/plain": [
       "array([[1, 0],\n",
       "       [0, 1]])"
      ]
     },
     "execution_count": 48,
     "metadata": {},
     "output_type": "execute_result"
    }
   ],
   "source": [
    "d"
   ]
  },
  {
   "cell_type": "code",
   "execution_count": 49,
   "metadata": {
    "id": "CVKe0mPreEoZ"
   },
   "outputs": [],
   "source": [
    "e = np.full((4,5),10)"
   ]
  },
  {
   "cell_type": "code",
   "execution_count": 50,
   "metadata": {
    "colab": {
     "base_uri": "https://localhost:8080/"
    },
    "id": "H_8LdXHaefio",
    "outputId": "217d5745-6169-4fab-b134-ca5bf98490e6"
   },
   "outputs": [
    {
     "data": {
      "text/plain": [
       "array([[10, 10, 10, 10, 10],\n",
       "       [10, 10, 10, 10, 10],\n",
       "       [10, 10, 10, 10, 10],\n",
       "       [10, 10, 10, 10, 10]])"
      ]
     },
     "execution_count": 50,
     "metadata": {},
     "output_type": "execute_result"
    }
   ],
   "source": [
    "e"
   ]
  },
  {
   "cell_type": "code",
   "execution_count": 51,
   "metadata": {
    "colab": {
     "base_uri": "https://localhost:8080/"
    },
    "id": "vdYPgwyTegDd",
    "outputId": "ebee1221-b575-479d-ab88-5e3d41056819"
   },
   "outputs": [
    {
     "data": {
      "text/plain": [
       "(4, 5)"
      ]
     },
     "execution_count": 51,
     "metadata": {},
     "output_type": "execute_result"
    }
   ],
   "source": [
    "e.shape"
   ]
  },
  {
   "cell_type": "code",
   "execution_count": 52,
   "metadata": {
    "colab": {
     "base_uri": "https://localhost:8080/"
    },
    "id": "-T6jWT5yehsx",
    "outputId": "ad4979c4-259f-4971-c266-f2e4761c3eca"
   },
   "outputs": [
    {
     "data": {
      "text/plain": [
       "2"
      ]
     },
     "execution_count": 52,
     "metadata": {},
     "output_type": "execute_result"
    }
   ],
   "source": [
    "e.ndim"
   ]
  },
  {
   "cell_type": "code",
   "execution_count": 53,
   "metadata": {
    "id": "yK_uWriOejIH"
   },
   "outputs": [],
   "source": [
    "e1 = np.full((4,5),10).reshape(2,10)"
   ]
  },
  {
   "cell_type": "code",
   "execution_count": 54,
   "metadata": {
    "colab": {
     "base_uri": "https://localhost:8080/"
    },
    "id": "n4rhUMtVesHX",
    "outputId": "3f353b76-7f6c-4880-dc1b-50d051fe7f3f"
   },
   "outputs": [
    {
     "data": {
      "text/plain": [
       "array([[10, 10, 10, 10, 10, 10, 10, 10, 10, 10],\n",
       "       [10, 10, 10, 10, 10, 10, 10, 10, 10, 10]])"
      ]
     },
     "execution_count": 54,
     "metadata": {},
     "output_type": "execute_result"
    }
   ],
   "source": [
    "e1"
   ]
  },
  {
   "cell_type": "code",
   "execution_count": 55,
   "metadata": {
    "id": "p0ZjPV-Eesmr"
   },
   "outputs": [],
   "source": [
    "#How can you reverse a NumPy array?"
   ]
  },
  {
   "cell_type": "code",
   "execution_count": 56,
   "metadata": {
    "id": "cGf_HlH4fCgO"
   },
   "outputs": [],
   "source": [
    "arr = np.array([1,2,3,4,5])\n",
    "\n",
    "reverse_arr = arr[::-1]"
   ]
  },
  {
   "cell_type": "code",
   "execution_count": 57,
   "metadata": {
    "colab": {
     "base_uri": "https://localhost:8080/"
    },
    "id": "cuSCCh4sfW-x",
    "outputId": "5011f5e2-f620-4974-df11-9ea48bedd363"
   },
   "outputs": [
    {
     "data": {
      "text/plain": [
       "array([5, 4, 3, 2, 1])"
      ]
     },
     "execution_count": 57,
     "metadata": {},
     "output_type": "execute_result"
    }
   ],
   "source": [
    "reverse_arr"
   ]
  },
  {
   "cell_type": "code",
   "execution_count": 59,
   "metadata": {
    "colab": {
     "base_uri": "https://localhost:8080/"
    },
    "id": "CwBeJavDfZEa",
    "outputId": "43b1c683-68e8-4c84-e9f4-15804947fd30"
   },
   "outputs": [
    {
     "data": {
      "text/plain": [
       "array([5, 4, 3, 2, 1])"
      ]
     },
     "execution_count": 59,
     "metadata": {},
     "output_type": "execute_result"
    }
   ],
   "source": [
    "arr1 = np.array([1,2,3,4,5])\n",
    "\n",
    "reverse_arr = np.flip(arr1)\n",
    "reverse_arr"
   ]
  },
  {
   "cell_type": "code",
   "execution_count": 60,
   "metadata": {
    "id": "0lG1l3Mvfcj7"
   },
   "outputs": [],
   "source": [
    "#How do you count the frequency of a given positive value appearing in the NumPy array?"
   ]
  },
  {
   "cell_type": "code",
   "execution_count": 68,
   "metadata": {
    "id": "U47BUd2KfzsT"
   },
   "outputs": [],
   "source": [
    "a = np.array([1,2,3,4,5,6,7,8,9,10,1,2,3,4,5,6,7,8,9,10,1,1,1,1,2,3,3,3,6,7,8,0,0,0,-1,-1,-1])"
   ]
  },
  {
   "cell_type": "code",
   "execution_count": 69,
   "metadata": {
    "colab": {
     "base_uri": "https://localhost:8080/"
    },
    "id": "_VLvv2swgeqc",
    "outputId": "58a706e2-b5ed-4f0e-b87a-dfb4d224552b"
   },
   "outputs": [
    {
     "name": "stdout",
     "output_type": "stream",
     "text": [
      "3\n"
     ]
    }
   ],
   "source": [
    "print(np.count_nonzero(a == 0))"
   ]
  },
  {
   "cell_type": "code",
   "execution_count": 70,
   "metadata": {
    "id": "-ikw9x5SgsU9"
   },
   "outputs": [],
   "source": [
    "b = np.sort(a)"
   ]
  },
  {
   "cell_type": "code",
   "execution_count": 71,
   "metadata": {
    "colab": {
     "base_uri": "https://localhost:8080/"
    },
    "id": "c6KRCwkYhkew",
    "outputId": "b2afb044-e64b-4f1e-f629-3936aff5236a"
   },
   "outputs": [
    {
     "data": {
      "text/plain": [
       "array([ 1,  2,  3,  4,  5,  6,  7,  8,  9, 10,  1,  2,  3,  4,  5,  6,  7,\n",
       "        8,  9, 10,  1,  1,  1,  1,  2,  3,  3,  3,  6,  7,  8,  0,  0,  0,\n",
       "       -1, -1, -1])"
      ]
     },
     "execution_count": 71,
     "metadata": {},
     "output_type": "execute_result"
    }
   ],
   "source": [
    "a"
   ]
  },
  {
   "cell_type": "code",
   "execution_count": 72,
   "metadata": {
    "colab": {
     "base_uri": "https://localhost:8080/"
    },
    "id": "qjI9rJl2hlSF",
    "outputId": "7a52fb50-f305-4de7-c51c-b48136b3a3fc"
   },
   "outputs": [
    {
     "data": {
      "text/plain": [
       "array([-1, -1, -1,  0,  0,  0,  1,  1,  1,  1,  1,  1,  2,  2,  2,  3,  3,\n",
       "        3,  3,  3,  4,  4,  5,  5,  6,  6,  6,  7,  7,  7,  8,  8,  8,  9,\n",
       "        9, 10, 10])"
      ]
     },
     "execution_count": 72,
     "metadata": {},
     "output_type": "execute_result"
    }
   ],
   "source": [
    "b"
   ]
  },
  {
   "cell_type": "code",
   "execution_count": 73,
   "metadata": {
    "colab": {
     "base_uri": "https://localhost:8080/"
    },
    "id": "qzCUMYiBhmmb",
    "outputId": "a263b6d9-1cb8-4144-87cf-605c89204595"
   },
   "outputs": [
    {
     "data": {
      "text/plain": [
       "(array([3, 5, 6]),)"
      ]
     },
     "execution_count": 73,
     "metadata": {},
     "output_type": "execute_result"
    }
   ],
   "source": [
    "arr = np.array([1,2,3,4,5,4,4])\n",
    "\n",
    "new_arr = np.where(arr==4)\n",
    "new_arr"
   ]
  },
  {
   "cell_type": "code",
   "execution_count": 74,
   "metadata": {
    "id": "1hHceUlpiFkR"
   },
   "outputs": [],
   "source": [
    "e1 = np.full((4,5),10)"
   ]
  },
  {
   "cell_type": "code",
   "execution_count": 75,
   "metadata": {
    "colab": {
     "base_uri": "https://localhost:8080/"
    },
    "id": "_VOA1ar6iX8w",
    "outputId": "79c0e024-44ce-44ee-cefb-1c5e0bd6c9ec"
   },
   "outputs": [
    {
     "data": {
      "text/plain": [
       "array([[10, 10, 10, 10, 10],\n",
       "       [10, 10, 10, 10, 10],\n",
       "       [10, 10, 10, 10, 10],\n",
       "       [10, 10, 10, 10, 10]])"
      ]
     },
     "execution_count": 75,
     "metadata": {},
     "output_type": "execute_result"
    }
   ],
   "source": [
    "e1"
   ]
  },
  {
   "cell_type": "code",
   "execution_count": 76,
   "metadata": {
    "id": "U_iWk9jriZLR"
   },
   "outputs": [],
   "source": [
    "a = np.transpose(e1)"
   ]
  },
  {
   "cell_type": "code",
   "execution_count": 77,
   "metadata": {
    "colab": {
     "base_uri": "https://localhost:8080/"
    },
    "id": "CNGtCQviijiU",
    "outputId": "e73c649c-d4d6-4d4a-83f5-12ca4beb25b9"
   },
   "outputs": [
    {
     "data": {
      "text/plain": [
       "array([[10, 10, 10, 10],\n",
       "       [10, 10, 10, 10],\n",
       "       [10, 10, 10, 10],\n",
       "       [10, 10, 10, 10],\n",
       "       [10, 10, 10, 10]])"
      ]
     },
     "execution_count": 77,
     "metadata": {},
     "output_type": "execute_result"
    }
   ],
   "source": [
    "a"
   ]
  },
  {
   "cell_type": "code",
   "execution_count": 81,
   "metadata": {
    "colab": {
     "base_uri": "https://localhost:8080/"
    },
    "id": "YKDEazD6ikLM",
    "outputId": "7c6dc5cd-3ac8-48e7-8908-115a9495aefd"
   },
   "outputs": [
    {
     "data": {
      "text/plain": [
       "array([[ 1,  2,  3,  4],\n",
       "       [ 5,  6,  7,  8],\n",
       "       [ 9, 10, 11, 12]])"
      ]
     },
     "execution_count": 81,
     "metadata": {},
     "output_type": "execute_result"
    }
   ],
   "source": [
    "arr = np.array([[1,2,3,4],[5,6,7,8],[9,10,11,12]])\n",
    "arr"
   ]
  },
  {
   "cell_type": "code",
   "execution_count": 79,
   "metadata": {
    "id": "QaiNSKtTiuB_"
   },
   "outputs": [],
   "source": [
    "arr1 = np.transpose(arr)"
   ]
  },
  {
   "cell_type": "code",
   "execution_count": 80,
   "metadata": {
    "colab": {
     "base_uri": "https://localhost:8080/"
    },
    "id": "mB8wI1otixu3",
    "outputId": "460b56de-6d11-4a3c-9f40-be8b4bda155c"
   },
   "outputs": [
    {
     "data": {
      "text/plain": [
       "array([[ 1,  5,  9],\n",
       "       [ 2,  6, 10],\n",
       "       [ 3,  7, 11],\n",
       "       [ 4,  8, 12]])"
      ]
     },
     "execution_count": 80,
     "metadata": {},
     "output_type": "execute_result"
    }
   ],
   "source": [
    "arr1"
   ]
  },
  {
   "cell_type": "code",
   "execution_count": 82,
   "metadata": {
    "colab": {
     "base_uri": "https://localhost:8080/"
    },
    "id": "tRR_vmSYiyfJ",
    "outputId": "8d3cd7cf-49a9-4445-8fd3-227bb56f0321"
   },
   "outputs": [
    {
     "data": {
      "text/plain": [
       "array([[ 1,  5,  9],\n",
       "       [ 2,  6, 10],\n",
       "       [ 3,  7, 11],\n",
       "       [ 4,  8, 12]])"
      ]
     },
     "execution_count": 82,
     "metadata": {},
     "output_type": "execute_result"
    }
   ],
   "source": [
    "arr.T"
   ]
  },
  {
   "cell_type": "code",
   "execution_count": null,
   "metadata": {
    "id": "HtYLsRUYjAuf"
   },
   "outputs": [],
   "source": []
  }
 ],
 "metadata": {
  "colab": {
   "provenance": []
  },
  "kernelspec": {
   "display_name": "Python 3 (ipykernel)",
   "language": "python",
   "name": "python3"
  },
  "language_info": {
   "codemirror_mode": {
    "name": "ipython",
    "version": 3
   },
   "file_extension": ".py",
   "mimetype": "text/x-python",
   "name": "python",
   "nbconvert_exporter": "python",
   "pygments_lexer": "ipython3",
   "version": "3.8.10"
  }
 },
 "nbformat": 4,
 "nbformat_minor": 1
}
