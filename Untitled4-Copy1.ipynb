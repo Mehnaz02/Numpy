{
 "cells": [
  {
   "cell_type": "code",
   "execution_count": 3,
   "id": "83f74a8e",
   "metadata": {},
   "outputs": [],
   "source": [
    "#Create a 3x3 matrix array with values ranging from 2 to 10.\n",
    "\n",
    "import numpy as np\n",
    "\n",
    "arr1=np.arange(2,11).reshape((3,3))"
   ]
  },
  {
   "cell_type": "code",
   "execution_count": 4,
   "id": "5b571460",
   "metadata": {},
   "outputs": [
    {
     "name": "stdout",
     "output_type": "stream",
     "text": [
      "[[ 2  3  4]\n",
      " [ 5  6  7]\n",
      " [ 8  9 10]]\n"
     ]
    }
   ],
   "source": [
    "print(arr1)"
   ]
  },
  {
   "cell_type": "markdown",
   "id": "2518cb05",
   "metadata": {},
   "source": [
    "Python Create a numpy array having user input values and convert the integer type to the float type\n",
    "of the elements of the array. For instance:\n",
    "Original array\n",
    "[1, 2, 3, 4]\n",
    "Array converted to a float type:\n",
    "[ 1. 2. 3. 4.]"
   ]
  },
  {
   "cell_type": "code",
   "execution_count": 9,
   "id": "512313e1",
   "metadata": {},
   "outputs": [
    {
     "name": "stdout",
     "output_type": "stream",
     "text": [
      "[1. 2. 3. 4.]\n"
     ]
    }
   ],
   "source": [
    "import numpy as np\n",
    "\n",
    "arr=[1,2,3,4]\n",
    "\n",
    "arr3=np.array(arr,dtype=float)\n",
    "print(arr3)\n"
   ]
  },
  {
   "cell_type": "markdown",
   "id": "176f49ed",
   "metadata": {},
   "source": [
    "Write a Numpy program to append values to the end of an array. For instance:\n",
    "Original array:\n",
    "[10, 20, 30]\n",
    "After append values to the end of the array:\n",
    "[10 20 30 40 50 60 70 80 90]"
   ]
  },
  {
   "cell_type": "code",
   "execution_count": 16,
   "id": "25d1a136",
   "metadata": {},
   "outputs": [],
   "source": [
    "import numpy as np \n",
    "\n",
    "arr=[10,20,30]\n",
    "\n",
    "arr.append(90)\n",
    "\n"
   ]
  },
  {
   "cell_type": "raw",
   "id": "720dcd39",
   "metadata": {},
   "source": [
    "Create two numpy arrays and add the elements of both the arrays and store the result in\n",
    "sumArray."
   ]
  },
  {
   "cell_type": "code",
   "execution_count": 19,
   "id": "48cee6b2",
   "metadata": {},
   "outputs": [],
   "source": [
    "import numpy as np\n",
    "\n",
    "arr1=np.arange(1,5)\n",
    "arr2=np.arange(5,9)"
   ]
  },
  {
   "cell_type": "code",
   "execution_count": 25,
   "id": "4de37dcb",
   "metadata": {},
   "outputs": [],
   "source": [
    "sumarray=arr1+arr2"
   ]
  },
  {
   "cell_type": "code",
   "execution_count": 26,
   "id": "4fc0bed0",
   "metadata": {},
   "outputs": [
    {
     "name": "stdout",
     "output_type": "stream",
     "text": [
      "[ 6  8 10 12]\n"
     ]
    }
   ],
   "source": [
    "print(sumarray)"
   ]
  },
  {
   "cell_type": "raw",
   "id": "8b342ef4",
   "metadata": {},
   "source": [
    "Create a 3*3 array having values from 10-90(interval of 10) and store that in array1. Perform\n",
    "the following tasks:\n",
    "a. Extract the 1st row from the array.\n",
    "b. Extract the last element from the array."
   ]
  },
  {
   "cell_type": "code",
   "execution_count": 79,
   "id": "fcca59aa",
   "metadata": {},
   "outputs": [
    {
     "name": "stdout",
     "output_type": "stream",
     "text": [
      "[[10 20 30]\n",
      " [40 50 60]\n",
      " [70 80 90]]\n"
     ]
    },
    {
     "data": {
      "text/plain": [
       "90"
      ]
     },
     "execution_count": 79,
     "metadata": {},
     "output_type": "execute_result"
    }
   ],
   "source": [
    "import numpy as np\n",
    "\n",
    "arr1=np.array([[10,20,30],[40,50,60],[70,80,90]])\n",
    "print(arr1)\n",
    "arr1.ndim\n",
    "\n",
    "#arr1[0]\n",
    "arr1[2][2]"
   ]
  },
  {
   "cell_type": "markdown",
   "id": "0cafe332",
   "metadata": {},
   "source": [
    "# "
   ]
  },
  {
   "cell_type": "code",
   "execution_count": null,
   "id": "de0bb7e0",
   "metadata": {},
   "outputs": [],
   "source": []
  }
 ],
 "metadata": {
  "kernelspec": {
   "display_name": "Python 3 (ipykernel)",
   "language": "python",
   "name": "python3"
  },
  "language_info": {
   "codemirror_mode": {
    "name": "ipython",
    "version": 3
   },
   "file_extension": ".py",
   "mimetype": "text/x-python",
   "name": "python",
   "nbconvert_exporter": "python",
   "pygments_lexer": "ipython3",
   "version": "3.8.10"
  }
 },
 "nbformat": 4,
 "nbformat_minor": 5
}
